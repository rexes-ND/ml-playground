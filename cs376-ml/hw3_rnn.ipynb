{
  "cells": [
    {
      "cell_type": "markdown",
      "metadata": {
        "id": "8mhuaIgkG65g"
      },
      "source": [
        "---\n",
        "# CS376 HW3: RNN, LSTM, Attention\n",
        "\n",
        "(Note that this score is not the same score that will be used in computing your final HW grade. The score will be re-scaled considering other homeworks.)\n",
        "\n",
        "In this assignment, you will implement neural machine translation (NMT) models using:\n",
        "\n",
        "1. RNNs\n",
        "2. LSTMs and LSTMs with attention\n"
      ]
    },
    {
      "cell_type": "code",
      "execution_count": null,
      "metadata": {
        "id": "pRHMSaFhWhOe"
      },
      "outputs": [],
      "source": [
        "# Before start, fill your information and run it.\n",
        "\n",
        "NAME = \"Erkhes Nyamsaikhan\"\n",
        "STUDENT_ID = None\n",
        "asgn3_score = 0"
      ]
    },
    {
      "cell_type": "markdown",
      "metadata": {
        "id": "UBri01t3G65h"
      },
      "source": [
        "## Setup\n",
        "\n",
        "First let's import some libraries that will be useful in this assignment.\n"
      ]
    },
    {
      "cell_type": "code",
      "execution_count": null,
      "metadata": {
        "id": "Cj9OGJRtG65h"
      },
      "outputs": [],
      "source": [
        "import zipfile\n",
        "import matplotlib.pyplot as plt\n",
        "import random\n",
        "import collections\n",
        "import numpy as np\n",
        "import zipfile\n",
        "import torch\n",
        "import os\n",
        "import torch.nn as nn\n",
        "import torch.nn.functional as F\n",
        "\n",
        "def seed(seed):\n",
        "  torch.manual_seed(seed)\n",
        "  np.random.seed(seed)"
      ]
    },
    {
      "cell_type": "markdown",
      "metadata": {
        "id": "lw8x1Bw7G65i"
      },
      "source": [
        "Make sure you are using the GPU."
      ]
    },
    {
      "cell_type": "code",
      "execution_count": null,
      "metadata": {
        "colab": {
          "base_uri": "https://localhost:8080/"
        },
        "id": "XZJUDZ_1G65i",
        "outputId": "03228183-5cdc-4410-84f4-a18e4d808b2c"
      },
      "outputs": [
        {
          "name": "stdout",
          "output_type": "stream",
          "text": [
            "Good to go!\n"
          ]
        }
      ],
      "source": [
        "if torch.cuda.is_available():\n",
        "  print('Good to go!')\n",
        "else:\n",
        "  print('Please set GPU via Edit -> Notebook Settings.')\n",
        "  \n",
        "device = torch.device('cuda:0')"
      ]
    },
    {
      "cell_type": "markdown",
      "metadata": {
        "id": "e8hm3JYHG65j"
      },
      "source": [
        "For this assignment, we will use an English-to-French dataset. As shown below, the dataset contains multiple lines each of which has an English sentence and its French translation separated by a tab. In this problem, since English is translated to French, English is the source language and French is the target language. Note that each text sequence is of variable lengnth and can be just one sentence or a paragraph of multiple sentences."
      ]
    },
    {
      "cell_type": "code",
      "execution_count": null,
      "metadata": {
        "id": "J34BwlpNG65j"
      },
      "outputs": [],
      "source": [
        "def download_if_not_exist(file_name):\n",
        "  \n",
        "  if not os.path.exists(file_name):\n",
        "    import urllib.request\n",
        "    DATA_URL = 'https://download.pytorch.org/tutorial/data.zip'\n",
        "\n",
        "    file_name, _ = urllib.request.urlretrieve(DATA_URL, './data.zip')\n",
        "    \n",
        "  return file_name\n",
        "\n",
        "def read_raw(file_name):\n",
        "  file_name = download_if_not_exist(file_name)\n",
        "  \n",
        "  with zipfile.ZipFile(file_name, 'r') as fzip:\n",
        "    raw_text = fzip.read(file_name.split('.')[-2][1:] + '/eng-fra.txt').decode('utf-8')\n",
        "  return raw_text"
      ]
    },
    {
      "cell_type": "code",
      "execution_count": null,
      "metadata": {
        "colab": {
          "base_uri": "https://localhost:8080/"
        },
        "id": "j1Td3dLnG65k",
        "outputId": "f81e2797-ad2c-47c1-8e47-bf5bdf345c28"
      },
      "outputs": [
        {
          "name": "stdout",
          "output_type": "stream",
          "text": [
            "Go.\tVa !\n",
            "Run!\tCours !\n",
            "Run!\tCourez !\n",
            "Wow!\tÇa alors !\n",
            "Fire!\tAu feu !\n",
            "Help!\tÀ l'aide !\n",
            "Jump.\tSaute.\n",
            "Stop!\tÇa suffit !\n",
            "Stop!\tStop !\n",
            "Stop!\tArrête-toi !\n",
            "Wait!\tAttends !\n",
            "Wait!\tAttendez !\n",
            "I see.\tJe comprends.\n"
          ]
        }
      ],
      "source": [
        "raw_text = read_raw('./data.zip')\n",
        "print(raw_text[:200])"
      ]
    },
    {
      "cell_type": "markdown",
      "metadata": {
        "id": "wQaSXNNXG65k"
      },
      "source": [
        "Next we'll do some preprocessing on this raw text. We need to replace special symbols (non-breaking spaces) with spaces, convert all characters to lower case, and insert a space between words and punctuation marks."
      ]
    },
    {
      "cell_type": "code",
      "execution_count": null,
      "metadata": {
        "id": "rBiBxz8EG65k"
      },
      "outputs": [],
      "source": [
        "def preprocess_raw(text):\n",
        "  text = text.replace('\\u202f', ' ').replace('\\xa0', ' ')\n",
        "  out = ''\n",
        "  for i, char in enumerate(text.lower()):\n",
        "    if char in (',', '!', '.') and i > 0 and text[i-1] != ' ':\n",
        "      out += ' '\n",
        "    out += char\n",
        "  return out"
      ]
    },
    {
      "cell_type": "markdown",
      "metadata": {
        "id": "DmkUOc4gG65k"
      },
      "source": [
        "We further split the source-target pairs into a source list and a target list. We use word-level tokenization here. "
      ]
    },
    {
      "cell_type": "code",
      "execution_count": null,
      "metadata": {
        "id": "VHP6ZhVGG65l"
      },
      "outputs": [],
      "source": [
        "def split_source_target(text, max_len):\n",
        "  source, target = [], []\n",
        "  for i, line in enumerate(text.split('\\n')):\n",
        "    if i > 5000: # we only use 5000 pairs of translation\n",
        "      break\n",
        "    parts = line.split('\\t')\n",
        "    if len(parts) == 2:\n",
        "      src_tokens = parts[0].split(' ')\n",
        "      tgt_tokens = parts[1].split(' ')\n",
        "      if (len(src_tokens) <= max_len) and (len(tgt_tokens) <= max_len):\n",
        "        source.append(src_tokens)\n",
        "        target.append(tgt_tokens)\n",
        "  return source, target"
      ]
    },
    {
      "cell_type": "code",
      "execution_count": null,
      "metadata": {
        "id": "H1f90fA2G65l"
      },
      "outputs": [],
      "source": [
        "def prepare_data(raw_text, max_len=10000):\n",
        "  text = preprocess_raw(raw_text)\n",
        "  source, target = split_source_target(text, max_len)\n",
        "  return source, target\n",
        "\n",
        "source, target = prepare_data(raw_text)"
      ]
    },
    {
      "cell_type": "markdown",
      "metadata": {
        "id": "LaPsQixJG65l"
      },
      "source": [
        "Using the whole dataset takes too much memory, and it is hard to train with a large vocabulary. Thus, we will filter out some words by looking at the statistical properties of the dataset."
      ]
    },
    {
      "cell_type": "code",
      "execution_count": null,
      "metadata": {
        "colab": {
          "base_uri": "https://localhost:8080/",
          "height": 281
        },
        "id": "9zv-uU07G65l",
        "outputId": "11d243d5-83f5-4801-8d0c-8fa9ae22b684"
      },
      "outputs": [
        {
          "data": {
            "image/png": "[encoded data removed]",
            "text/plain": [
              "<Figure size 432x288 with 1 Axes>"
            ]
          },
          "metadata": {
            "needs_background": "light"
          },
          "output_type": "display_data"
        }
      ],
      "source": [
        "def len_dis(text):\n",
        "  lens = [len(line) for line in text]\n",
        "  len_counter = collections.Counter(lens)\n",
        "\n",
        "  lens = np.array(list(len_counter.keys()))\n",
        "  sort_idx = np.argsort(lens)\n",
        "  lens_sort = lens[sort_idx]\n",
        "  len_counts = np.array(list(len_counter.values()))\n",
        "  len_counts_sort = len_counts[sort_idx]\n",
        "  p = np.cumsum(len_counts_sort) / len_counts_sort.sum()\n",
        "  return p, lens_sort\n",
        "  \n",
        "src_p, src_lens_sort = len_dis(source)\n",
        "tgt_p, tgt_lens_sort = len_dis(target)\n",
        "plt.plot(src_lens_sort, src_p, 'r-', label='eng')\n",
        "plt.plot(tgt_lens_sort, tgt_p, 'g-', label='fra')\n",
        "plt.title('Cumulative Distribution of Sentence Length')\n",
        "plt.legend()\n",
        "plt.show()"
      ]
    },
    {
      "cell_type": "markdown",
      "metadata": {
        "id": "MpAMl-RGG65l"
      },
      "source": [
        "From the above plots, we can see that more than 90% of the sentences have a length of less than 8. Thus, we can filter out sentences of length greater than 8. We also filter out words that occur less than 5 times in the corpus."
      ]
    },
    {
      "cell_type": "code",
      "execution_count": null,
      "metadata": {
        "id": "D2B-aT3qG65l"
      },
      "outputs": [],
      "source": [
        "# hyper-param\n",
        "MAX_LEN = 8\n",
        "MIN_FREQ = 5"
      ]
    },
    {
      "cell_type": "markdown",
      "metadata": {
        "id": "vBrMUj8aG65m"
      },
      "source": [
        "### Build Vocabulary\n",
        "\n",
        "Each word needs a unique index, and the words that have been filtered out need a special token to represent them. The following class Vocab is used to build the vocabulary. Some basic helper functions or dictionaries are also provided:\n",
        "- Dictionary word2index: Convert word string into index: \n",
        "- Dictionary index2word: Convert index into word string\n",
        "- helper function _build_vocab(): Build dictionaries for converting from words to indices and vice versa\n",
        "- Word Counter, num_word: Record the total number of unique tokens in the vocabulary \n",
        "    \n",
        "There are 4 special tokens added in the vocabulary:\n",
        "- 'pad': padding token. Sentences shorter than MAX_LEN is padded by this symbol to make the length to MAX_LEN\n",
        "- 'bos': beginning of sentence. This indicates the beginning of a sentence\n",
        "- 'eos': end of sentence. This indicates the end of a sentence\n",
        "- 'unk': unknown word. This represents words that have been filtered out (words that are not in the vocabulary)"
      ]
    },
    {
      "cell_type": "code",
      "execution_count": null,
      "metadata": {
        "id": "1ZlC21-IG65m"
      },
      "outputs": [],
      "source": [
        "class Vocab():\n",
        "  def __init__(self, name, tokens, min_freq):\n",
        "    self.name = name\n",
        "    self.index2word = {\n",
        "      0: 'pad',\n",
        "      1: 'bos',\n",
        "      2: 'eos',\n",
        "      3: 'unk'\n",
        "    }\n",
        "    self.word2index = {v: k for k, v in self.index2word.items()}\n",
        "    self.num_word = 4\n",
        "    token_freq = collections.Counter(tokens)\n",
        "    tokens = [token for token in tokens if token_freq[token] >= MIN_FREQ]\n",
        "    self._build_vocab(tokens)\n",
        "    \n",
        "  def _build_vocab(self, tokens):\n",
        "    for token in tokens:\n",
        "      if token not in self.word2index:\n",
        "        self.word2index[token] = self.num_word\n",
        "        self.index2word[self.num_word] = token\n",
        "        self.num_word += 1\n",
        "        \n",
        "  def __getitem__(self, tokens):\n",
        "    if not isinstance(tokens, (list, tuple)):\n",
        "      return self.word2index.get(tokens, self.word2index['unk'])\n",
        "    else:\n",
        "      return [self.__getitem__(token) for token in tokens]"
      ]
    },
    {
      "cell_type": "markdown",
      "metadata": {
        "id": "MSAfZ9VYG65m"
      },
      "source": [
        "### Build Dataset\n",
        "\n",
        "The dataset pipeline involves the following steps:\n",
        "- For target language, every sentence will be 'sandwiched' with the 'bos' token and the 'eos' token.\n",
        "- Every sentence that has a length less than MAX_LEN will be padded to the MAX_LEN with the *padding_token*.\n",
        "- The dataset should return the converted tensor and the corresponding valid length before padding.\n",
        "- We use the Pytorch *DataLoader* API to build the dataset generator.\n",
        "\n",
        "For the purposes of this assignment, we will train and evaluate on only the training data. This isn't ideal because we do not know if we are  overfitting to the training data, but it is fine for instructional purposes. In practice (eg. for your projects), you should make sure to split your data into training/validation/test datasets."
      ]
    },
    {
      "cell_type": "code",
      "execution_count": null,
      "metadata": {
        "colab": {
          "base_uri": "https://localhost:8080/"
        },
        "id": "uQzcjBZqG65m",
        "outputId": "c43e752d-2d99-4d45-e170-d772f1e58733"
      },
      "outputs": [
        {
          "name": "stdout",
          "output_type": "stream",
          "text": [
            "(tensor([4, 5, 0, 0, 0, 0, 0, 0, 0, 0]), tensor(2), tensor([1, 4, 5, 2, 0, 0, 0, 0, 0, 0]), tensor(4))\n",
            "Vocabulary size of source language: 433\n",
            "Vocabulary size of target language: 420\n",
            "Total number of sentence pairs: 4990\n"
          ]
        }
      ],
      "source": [
        "def build_vocab(name, tokens, min_freq):\n",
        "  tokens = [token for line in tokens for token in line]\n",
        "  return Vocab(name, tokens, min_freq)\n",
        "\n",
        "def build_vocabs(lang_src, lang_tgt, src_text, tgt_text):\n",
        "  vocab_src = build_vocab(lang_src, src_text, MIN_FREQ)\n",
        "  vocab_tgt = build_vocab(lang_tgt, tgt_text, MIN_FREQ)\n",
        "  return vocab_src, vocab_tgt\n",
        "\n",
        "def pad(line, padding_token):\n",
        "  return line + [padding_token] * (MAX_LEN + 2 - len(line))\n",
        "\n",
        "def build_tensor(text, lang, is_source):\n",
        "  lines = [lang[line] for line in text]\n",
        "  if not is_source:\n",
        "    lines = [[lang['bos']] + line + [lang['eos']] for line in lines]\n",
        "  array = torch.tensor([pad(line, lang['pad']) for line in lines])\n",
        "  valid_len = (array != lang['pad']).sum(1)\n",
        "  return array, valid_len\n",
        "\n",
        "def load_data_nmt(batch_size=2):\n",
        "  lang_eng, lang_fra = build_vocabs('eng', 'fra', source, target)\n",
        "  src_array, src_valid_len = build_tensor(source, lang_eng, True)\n",
        "  tgt_array, tgt_valid_len = build_tensor(target, lang_fra, False)\n",
        "  train_data = torch.utils.data.TensorDataset(\n",
        "    src_array, src_valid_len, tgt_array, tgt_valid_len)\n",
        "  print(train_data[0])\n",
        "  train_iter = torch.utils.data.DataLoader(train_data, batch_size, shuffle=True)\n",
        "  return lang_eng, lang_fra, train_iter\n",
        "\n",
        "\n",
        "source, target = prepare_data(raw_text, max_len=MAX_LEN)\n",
        "vocab_eng, vocab_fra, train_iter = load_data_nmt(batch_size=2)\n",
        "print('Vocabulary size of source language: {}'.format(vocab_eng.num_word))\n",
        "print('Vocabulary size of target language: {}'.format(vocab_fra.num_word))\n",
        "print('Total number of sentence pairs: {}'.format(len(source)))"
      ]
    },
    {
      "cell_type": "markdown",
      "metadata": {
        "id": "WZuEXonbG65m"
      },
      "source": [
        "## Sequence to Sequence with RNN (baseline)\n",
        "\n",
        "In this section, we provide the implementation of the seq2seq RNN baseline model. You do not need to implement any code in this section, but you should read and understand what the code is doing because you will need to implement something similar in subsequent sections. The following figure highlights the architecture of the seq2seq model. An encoder RNN encodes the input sequence into its hidden state, and passes the last hidden state to the decoder RNN. The decoder generates the target sequence.\n",
        "\n",
        "Implementation Details:\n",
        "\n",
        "- Embedding: We have represented each word with an integer or one-hot vector. We need an embedding layer to map an input word to its embedding vector.\n",
        "- Encoder: A vanilla RNN is used to encode a source sequence. The final hidden state is returned as output and passed to the decoder RNN.\n",
        "- Decoder: Another vanilla RNN is implemented to generate the target sequence. The hidden state is initialized with the last hidden state from the encoder.\n",
        "- Encoder-Decoder: The class NMTRNN is built by combining the encoder and the decoder, and yields the loss and predictions.\n",
        "- Loss: We have padded all sentences so that they have the same MAX_LEN. Thus, when we compute the loss, the loss from those padding_tokens should be masked out."
      ]
    },
    {
      "cell_type": "markdown",
      "metadata": {
        "id": "aBNAJ6eWG65n"
      },
      "source": [
        "<div>\n",
        "<img src=\"https://raw.githubusercontent.com/dsgiitr/d2l-pytorch/24e89824c154c2afc419c5dadec9622e490b99bb/img/seq2seq.svg\" width=\"600\"/>\n",
        "</div>\n",
        "Image source: https://github.com/dsgiitr/d2l-pytorch/blob/master/img/seq2seq.svg"
      ]
    },
    {
      "cell_type": "code",
      "execution_count": null,
      "metadata": {
        "id": "lsdusjPfG65n"
      },
      "outputs": [],
      "source": [
        "class Encoder(nn.Module):\n",
        "  def __init__(self, vocab_size, embedding_dim, hidden_size):\n",
        "    super(Encoder, self).__init__()\n",
        "    \"\"\"\n",
        "    inputs:\n",
        "      vocab_size: int, the number of words in the vocabulary\n",
        "      embedding_dim: int, dimension of the word embedding\n",
        "      hidden_size: int, dimension of the hidden state of vanilla RNN\n",
        "    \"\"\"\n",
        "    self.embedding = nn.Embedding(vocab_size, embedding_dim) # embedding layer\n",
        "    self.enc = nn.RNN(embedding_dim, hidden_size, batch_first=True)\n",
        "    self.hidden_size = hidden_size\n",
        "    \n",
        "  def forward(self, sources, valid_len):\n",
        "    \"\"\"\n",
        "    Inputs:\n",
        "      source: tensor of size (N, T), where N is the batch size, T is the length of the sequence(s)\n",
        "      valid_len: tensor of size (N,), indicating the valid length of sequence(s) (the length before padding)\n",
        "    \"\"\"\n",
        "    word_embedded = self.embedding(sources)\n",
        "  \n",
        "    N = word_embedded.shape[0]\n",
        "    \n",
        "    h = sources.new_zeros(1, N, self.hidden_size).float() # initialize hidden state with zeros\n",
        "    \n",
        "    o, h = self.enc(word_embedded, h)\n",
        "    \n",
        "    return o[np.arange(N), valid_len] # return the hidden state of the valid last time step\n",
        "\n",
        "class Decoder(nn.Module):\n",
        "  def __init__(self, vocab_size, embedding_dim, hidden_size):\n",
        "    super(Decoder, self).__init__()\n",
        "    \"\"\"\n",
        "    inputs:\n",
        "      vocab_size: int, the number of words in the vocabulary\n",
        "      embedding_dim: int, dimension of the word embedding\n",
        "      hidden_size: int, dimension of the hidden state of vanilla RNN\n",
        "    \"\"\"\n",
        "    self.embedding = nn.Embedding(vocab_size, embedding_dim)\n",
        "    self.enc = nn.RNN(embedding_dim, hidden_size, batch_first=True)\n",
        "    self.output_emb = nn.Linear(hidden_size, vocab_size)\n",
        "    self.hidden_size = hidden_size\n",
        "    \n",
        "  def forward(self, h, target):\n",
        "    word_embedded = self.embedding(target)\n",
        "    N, T = word_embedded.shape[:2]\n",
        "    \n",
        "    o, h = self.enc(word_embedded, h.view(1,N,self.hidden_size))\n",
        "    pred = self.output_emb(o)\n",
        "    return pred, h\n",
        "\n",
        "class NMTRNN(nn.Module):\n",
        "  def __init__(self, src_vocab_size, tgt_vocab_size, embedding_dim, hidden_size):\n",
        "    super(NMTRNN, self).__init__()\n",
        "    self.enc = Encoder(src_vocab_size, embedding_dim, hidden_size)\n",
        "    self.dec = Decoder(tgt_vocab_size, embedding_dim, hidden_size)\n",
        "    \n",
        "  def forward(self, src, src_len, tgt, tgt_len):\n",
        "    h = self.enc(src, src_len)\n",
        "    T = tgt.shape[1]\n",
        "    \n",
        "    pred, _ = self.dec(h, tgt)\n",
        "       \n",
        "    loss = F.nll_loss(F.log_softmax(pred[:, :T-1].transpose(1,2), dim = 1), tgt[:, 1:], ignore_index=0, reduction = 'none')\n",
        "    loss = loss.sum(1).mean()\n",
        "\n",
        "    return loss, pred.argmax(dim=-1)\n",
        "\n",
        "  def predict(self, src, src_len, tgt, tgt_len):\n",
        "      \"\"\"\n",
        "      When predicting a sequence given the 'bos' token, the input for the next step is the predicted\n",
        "      token from the previous time step.\n",
        "      \"\"\"\n",
        "      h = self.enc(src, src_len)\n",
        "\n",
        "      inputs = tgt[:, :1]\n",
        "      preds = []\n",
        "      for t in range(MAX_LEN+1): # plus the 'eos' token\n",
        "        pred, h = self.dec(h, inputs)\n",
        "        preds.append(pred)\n",
        "        inputs = pred.argmax(dim=-1)\n",
        "        \n",
        "      pred = torch.cat(preds, dim=1).argmax(dim=-1)\n",
        "      return pred\n",
        "        "
      ]
    },
    {
      "cell_type": "code",
      "execution_count": null,
      "metadata": {
        "colab": {
          "base_uri": "https://localhost:8080/"
        },
        "id": "vbyFT1DKG65n",
        "outputId": "28f26081-558b-4436-d8fa-24c95be2c13e"
      },
      "outputs": [
        {
          "name": "stdout",
          "output_type": "stream",
          "text": [
            "(tensor([4, 5, 0, 0, 0, 0, 0, 0, 0, 0]), tensor(2), tensor([1, 4, 5, 2, 0, 0, 0, 0, 0, 0]), tensor(4))\n",
            "iter 0 / 7800\tLoss:\t30.051929\n",
            "pred:\t tensor([146,  65, 349,  53,   3, 330,  52, 330, 330, 330])\n",
            "\n",
            "tgt:\t tensor([ 3, 11,  2,  0,  0,  0,  0,  0,  0])\n",
            "\n",
            "iter 156 / 7800\tLoss:\t10.511122\n",
            "pred:\t tensor([14,  3,  3, 11,  2, 11,  3,  3,  3,  3])\n",
            "\n",
            "tgt:\t tensor([15, 89,  3, 11,  2,  0,  0,  0,  0])\n",
            "\n",
            "iter 312 / 7800\tLoss:\t9.733450\n",
            "pred:\t tensor([  3, 164,   3,  11,  11,   2,  11,   3,   3,   3])\n",
            "\n",
            "tgt:\t tensor([ 48,  49, 113, 282,  11,   2,   0,   0,   0])\n",
            "\n",
            "iter 468 / 7800\tLoss:\t8.342284\n",
            "pred:\t tensor([ 3,  3,  5,  3, 11,  2, 11,  3,  3,  3])\n",
            "\n",
            "tgt:\t tensor([36,  3, 37,  3,  5,  2,  0,  0,  0])\n",
            "\n",
            "iter 624 / 7800\tLoss:\t6.555187\n",
            "pred:\t tensor([36,  3,  3, 11,  2,  5,  3,  3,  3,  3])\n",
            "\n",
            "tgt:\t tensor([36,  9, 88, 11,  2,  0,  0,  0,  0])\n",
            "\n",
            "iter 780 / 7800\tLoss:\t6.749533\n",
            "pred:\t tensor([14, 28,  3, 11,  2, 11,  3,  3,  3,  3])\n",
            "\n",
            "tgt:\t tensor([14, 28,  3, 11,  2,  0,  0,  0,  0])\n",
            "\n",
            "iter 936 / 7800\tLoss:\t7.104589\n",
            "pred:\t tensor([ 14,  28,   3, 227,  37,   3,  11,   2,   5,   3])\n",
            "\n",
            "tgt:\t tensor([ 14,  28,  35, 227,  37,   3,  11,   2,   0])\n",
            "\n",
            "iter 1092 / 7800\tLoss:\t5.891044\n",
            "pred:\t tensor([171, 342,   3,  11,   2,   5,   3,   3,   3,   3])\n",
            "\n",
            "tgt:\t tensor([171, 342,   3,  11,   2,   0,   0,   0,   0])\n",
            "\n",
            "iter 1248 / 7800\tLoss:\t6.436800\n",
            "pred:\t tensor([14, 79, 72, 11,  2, 11,  3, 11,  3, 11])\n",
            "\n",
            "tgt:\t tensor([ 14, 197,   3,  11,   2,   0,   0,   0,   0])\n",
            "\n",
            "iter 1404 / 7800\tLoss:\t5.109266\n",
            "pred:\t tensor([ 14, 171,   3,  11,   2,   5,   3,   3,   3,   3])\n",
            "\n",
            "tgt:\t tensor([14, 70,  3, 11,  2,  0,  0,  0,  0])\n",
            "\n",
            "iter 1560 / 7800\tLoss:\t6.205434\n",
            "pred:\t tensor([267, 203,  78,   3,  41,  24,   2,   5,   3,   3])\n",
            "\n",
            "tgt:\t tensor([168,  90,  79,   4,  41,  24,   2,   0,   0])\n",
            "\n",
            "iter 1716 / 7800\tLoss:\t5.708277\n",
            "pred:\t tensor([ 14, 171,   3,   3,   5,   2,   5,   3,   3,   3])\n",
            "\n",
            "tgt:\t tensor([ 14,  70,  17, 205,   5,   2,   0,   0,   0])\n",
            "\n",
            "iter 1872 / 7800\tLoss:\t4.465404\n",
            "pred:\t tensor([ 3,  5,  2,  5,  5,  5, 11, 11, 11, 11])\n",
            "\n",
            "tgt:\t tensor([ 3, 11,  2,  0,  0,  0,  0,  0,  0])\n",
            "\n",
            "iter 2028 / 7800\tLoss:\t5.497901\n",
            "pred:\t tensor([ 14, 171,   3,  75,   3,  11,   2,   5,   3,   3])\n",
            "\n",
            "tgt:\t tensor([ 14, 171, 213,  75,   3,  11,   2,   0,   0])\n",
            "\n",
            "iter 2184 / 7800\tLoss:\t4.004459\n",
            "pred:\t tensor([ 93, 203,  14, 171,   3,  24,   2,  24,   3,  24])\n",
            "\n",
            "tgt:\t tensor([176, 203,  14, 116,   3,  24,   2,   0,   0])\n",
            "\n",
            "iter 2340 / 7800\tLoss:\t4.218427\n",
            "pred:\t tensor([14,  3, 11,  2, 11,  3,  3,  3,  3, 11])\n",
            "\n",
            "tgt:\t tensor([103, 385,  11,   2,   0,   0,   0,   0,   0])\n",
            "\n",
            "iter 2496 / 7800\tLoss:\t4.397956\n",
            "pred:\t tensor([15,  3, 72,  3, 11,  2,  5, 88, 11,  3])\n",
            "\n",
            "tgt:\t tensor([ 15, 291,   9,   3,  11,   2,   0,   0,   0])\n",
            "\n",
            "iter 2652 / 7800\tLoss:\t4.588868\n",
            "pred:\t tensor([ 14, 116, 179,   3,  11,   2,   5,  88,   3,   3])\n",
            "\n",
            "tgt:\t tensor([ 14, 116, 179, 305,  11,   2,   0,   0,   0])\n",
            "\n",
            "iter 2808 / 7800\tLoss:\t3.556705\n",
            "pred:\t tensor([ 36, 316,  41, 139,  11,   2,   5,   3,  11,   3])\n",
            "\n",
            "tgt:\t tensor([315, 316,  41, 139,  11,   2,   0,   0,   0])\n",
            "\n",
            "iter 2964 / 7800\tLoss:\t3.297014\n",
            "pred:\t tensor([ 3, 11,  2,  5,  3, 11, 11, 11, 11,  5])\n",
            "\n",
            "tgt:\t tensor([3, 5, 2, 0, 0, 0, 0, 0, 0])\n",
            "\n",
            "iter 3120 / 7800\tLoss:\t3.380059\n",
            "pred:\t tensor([ 15, 282,  11,   2,   5,  88,   3,   3,   3,   3])\n",
            "\n",
            "tgt:\t tensor([  3, 265,  11,   2,   0,   0,   0,   0,   0])\n",
            "\n",
            "iter 3276 / 7800\tLoss:\t3.034994\n",
            "pred:\t tensor([14, 28,  3, 11,  2,  5,  3, 11, 11, 11])\n",
            "\n",
            "tgt:\t tensor([14, 28,  3, 11,  2,  0,  0,  0,  0])\n",
            "\n",
            "iter 3432 / 7800\tLoss:\t3.334937\n",
            "pred:\t tensor([  3,   6, 248,  11,   2,   5,  88,   5,   3,  11])\n",
            "\n",
            "tgt:\t tensor([  3,  72, 248,  11,   2,   0,   0,   0,   0])\n",
            "\n",
            "iter 3588 / 7800\tLoss:\t3.590140\n",
            "pred:\t tensor([176, 393, 355,  24,   2,  24,  24,  24,  24,   3])\n",
            "\n",
            "tgt:\t tensor([  3,  37, 355,  24,   2,   0,   0,   0,   0])\n",
            "\n",
            "iter 3744 / 7800\tLoss:\t3.726007\n",
            "pred:\t tensor([ 14, 108,  74,   3,  11,   2,  11,   3,   3,   3])\n",
            "\n",
            "tgt:\t tensor([ 14, 289,  74,   3,  11,   2,   0,   0,   0])\n",
            "\n",
            "iter 3900 / 7800\tLoss:\t2.837228\n",
            "pred:\t tensor([176,   3, 237,  24,   2,   5,  11,  11,  11,  11])\n",
            "\n",
            "tgt:\t tensor([176,   9, 237,  24,   2,   0,   0,   0,   0])\n",
            "\n",
            "iter 4056 / 7800\tLoss:\t3.500475\n",
            "pred:\t tensor([ 38, 116, 203,   3,  11,   2,   5,   3,   3,   3])\n",
            "\n",
            "tgt:\t tensor([ 38, 419, 203,   3,  11,   2,   0,   0,   0])\n",
            "\n",
            "iter 4212 / 7800\tLoss:\t3.559257\n",
            "pred:\t tensor([90, 91, 24,  2, 24, 24, 24,  3,  3, 11])\n",
            "\n",
            "tgt:\t tensor([ 90, 176,  24,   2,   0,   0,   0,   0,   0])\n",
            "\n",
            "iter 4368 / 7800\tLoss:\t2.728256\n",
            "pred:\t tensor([  3, 207,   3,  11,   2,   5,   5,  11,  11,  11])\n",
            "\n",
            "tgt:\t tensor([  3, 207,   3,  11,   2,   0,   0,   0,   0])\n",
            "\n",
            "iter 4524 / 7800\tLoss:\t2.682977\n",
            "pred:\t tensor([150, 354,   5,   2,   5,   3,  11,  11,  11,  11])\n",
            "\n",
            "tgt:\t tensor([251, 354,   5,   2,   0,   0,   0,   0,   0])\n",
            "\n",
            "iter 4680 / 7800\tLoss:\t2.476798\n",
            "pred:\t tensor([122,  37,  11,   2,   5,   3,   3,   3,   3,  11])\n",
            "\n",
            "tgt:\t tensor([  3, 314,  11,   2,   0,   0,   0,   0,   0])\n",
            "\n",
            "iter 4836 / 7800\tLoss:\t2.386943\n",
            "pred:\t tensor([ 38,  40,  21, 390,  11,   2,   5,  88,  11,   3])\n",
            "\n",
            "tgt:\t tensor([ 38,  40,  21, 390,  11,   2,   0,   0,   0])\n",
            "\n",
            "iter 4992 / 7800\tLoss:\t3.183138\n",
            "pred:\t tensor([14, 28,  3, 11,  2, 11,  3,  3,  3, 11])\n",
            "\n",
            "tgt:\t tensor([14, 28,  3, 11,  2,  0,  0,  0,  0])\n",
            "\n",
            "iter 5148 / 7800\tLoss:\t3.304249\n",
            "pred:\t tensor([267,   3,  24,   2,  24,  24,  24,   3,   3,  11])\n",
            "\n",
            "tgt:\t tensor([267, 234,  24,   2,   0,   0,   0,   0,   0])\n",
            "\n",
            "iter 5304 / 7800\tLoss:\t2.687942\n",
            "pred:\t tensor([52,  3, 11,  2, 11,  3,  3,  3, 11, 11])\n",
            "\n",
            "tgt:\t tensor([52,  3, 11,  2,  0,  0,  0,  0,  0])\n",
            "\n",
            "iter 5460 / 7800\tLoss:\t2.315697\n",
            "pred:\t tensor([36, 40, 81,  3, 11,  2, 11,  3,  3, 11])\n",
            "\n",
            "tgt:\t tensor([ 38,  78, 214,   3,  11,   2,   0,   0,   0])\n",
            "\n",
            "iter 5616 / 7800\tLoss:\t2.540252\n",
            "pred:\t tensor([48,  3, 37, 10, 11,  2,  5, 11, 11, 11])\n",
            "\n",
            "tgt:\t tensor([48,  3, 37, 10, 11,  2,  0,  0,  0])\n",
            "\n",
            "iter 5772 / 7800\tLoss:\t2.001208\n",
            "pred:\t tensor([ 3, 41, 11,  2,  5,  3,  3,  3, 11, 11])\n",
            "\n",
            "tgt:\t tensor([  3, 161,  11,   2,   0,   0,   0,   0,   0])\n",
            "\n",
            "iter 5928 / 7800\tLoss:\t2.437479\n",
            "pred:\t tensor([ 3,  5,  5,  2,  5,  3, 11, 11, 11, 11])\n",
            "\n",
            "tgt:\t tensor([ 3, 19,  5,  2,  0,  0,  0,  0,  0])\n",
            "\n",
            "iter 6084 / 7800\tLoss:\t2.360372\n",
            "pred:\t tensor([ 36,   3,  11,   2,   5, 292,  11,  11,  11,  11])\n",
            "\n",
            "tgt:\t tensor([36,  3, 11,  2,  0,  0,  0,  0,  0])\n",
            "\n",
            "iter 6240 / 7800\tLoss:\t1.751339\n",
            "pred:\t tensor([ 3,  5,  2,  5, 11, 11, 11, 11, 11, 11])\n",
            "\n",
            "tgt:\t tensor([3, 5, 2, 0, 0, 0, 0, 0, 0])\n",
            "\n",
            "iter 6396 / 7800\tLoss:\t2.737441\n",
            "pred:\t tensor([171, 341, 236,  11,   2,  11,   3,   3,   3,  11])\n",
            "\n",
            "tgt:\t tensor([ 92, 341, 236,  11,   2,   0,   0,   0,   0])\n",
            "\n",
            "iter 6552 / 7800\tLoss:\t2.141050\n",
            "pred:\t tensor([267,   3,  24,   2,   5, 148,  24,   3,  11,  11])\n",
            "\n",
            "tgt:\t tensor([267, 118,  24,   2,   0,   0,   0,   0,   0])\n",
            "\n",
            "iter 6708 / 7800\tLoss:\t2.343958\n",
            "pred:\t tensor([ 14,  17, 114,  11,   2,   5,   3,   3,   3,   3])\n",
            "\n",
            "tgt:\t tensor([ 14,  17, 114,  11,   2,   0,   0,   0,   0])\n",
            "\n",
            "iter 6864 / 7800\tLoss:\t1.426110\n",
            "pred:\t tensor([ 14,  79,  28,  41,   3,  11,   2,   5, 292,   3])\n",
            "\n",
            "tgt:\t tensor([ 14,  79,  28,  41, 229,  11,   2,   0,   0])\n",
            "\n",
            "iter 7020 / 7800\tLoss:\t2.466043\n",
            "pred:\t tensor([267,   3,  24,   2,   5, 148,  11,   3,  11,  11])\n",
            "\n",
            "tgt:\t tensor([267, 124,  24,   2,   0,   0,   0,   0,   0])\n",
            "\n",
            "iter 7176 / 7800\tLoss:\t1.663215\n",
            "pred:\t tensor([ 15, 204, 393,   3,  11,   2,  11,   3,   3,   3])\n",
            "\n",
            "tgt:\t tensor([ 15, 204, 393,   3,  11,   2,   0,   0,   0])\n",
            "\n",
            "iter 7332 / 7800\tLoss:\t1.494587\n",
            "pred:\t tensor([52,  3, 11,  2, 11,  3,  3,  3, 11, 11])\n",
            "\n",
            "tgt:\t tensor([52,  3, 11,  2,  0,  0,  0,  0,  0])\n",
            "\n",
            "iter 7488 / 7800\tLoss:\t1.847355\n",
            "pred:\t tensor([15,  3, 11,  2,  5,  3,  3,  3,  3, 11])\n",
            "\n",
            "tgt:\t tensor([15, 23, 11,  2,  0,  0,  0,  0,  0])\n",
            "\n",
            "iter 7644 / 7800\tLoss:\t1.774521\n",
            "pred:\t tensor([14, 28,  3, 11,  2,  5,  3,  3,  3,  3])\n",
            "\n",
            "tgt:\t tensor([14, 28,  3, 11,  2,  0,  0,  0,  0])\n",
            "\n"
          ]
        }
      ],
      "source": [
        "def train_rnn(net, train_iter, lr, epochs, device):\n",
        "  # training\n",
        "  net = net.to(device)\n",
        "\n",
        "  optimizer = torch.optim.Adam(net.parameters(), lr=lr)\n",
        "  loss_list = []\n",
        "  print_interval = len(train_iter)\n",
        "  total_iter = epochs * len(train_iter)\n",
        "  for e in range(epochs):\n",
        "    net.train()\n",
        "    for i, train_data in enumerate(train_iter):\n",
        "      train_data = [ds.to(device) for ds in train_data]\n",
        "\n",
        "      loss, pred = net(*train_data)\n",
        "      \n",
        "      loss_list.append(loss.mean().detach())\n",
        "      optimizer.zero_grad()\n",
        "      loss.mean().backward()\n",
        "      optimizer.step()\n",
        "\n",
        "      step = i + e * len(train_iter)\n",
        "      if step % print_interval == 0:\n",
        "        print('iter {} / {}\\tLoss:\\t{:.6f}'.format(step, total_iter, loss.mean().detach()))\n",
        "        print('pred:\\t {}\\n'.format(pred[0].detach().cpu()))\n",
        "        print('tgt:\\t {}\\n'.format(train_data[2][0][1:].cpu()))\n",
        "  return loss_list\n",
        "\n",
        "seed(1)\n",
        "batch_size = 32\n",
        "lr = 1e-3\n",
        "epochs = 50\n",
        "\n",
        "embedding_dim = 250\n",
        "hidden_size = 128\n",
        "\n",
        "vocab_eng, vocab_fra, train_iter = load_data_nmt(batch_size)\n",
        "rnn_net = NMTRNN(vocab_eng.num_word, vocab_fra.num_word, embedding_dim, hidden_size)\n",
        "\n",
        "rnn_loss_list = train_rnn(rnn_net, train_iter, lr, epochs, device)"
      ]
    },
    {
      "cell_type": "markdown",
      "metadata": {
        "id": "8zy5VZYyG65o"
      },
      "source": [
        "### RNN Loss Curve\n",
        "\n",
        "Plot the loss curve over time."
      ]
    },
    {
      "cell_type": "code",
      "execution_count": null,
      "metadata": {
        "colab": {
          "base_uri": "https://localhost:8080/",
          "height": 298
        },
        "id": "Vse6-u02G65o",
        "outputId": "efd5c9fa-124f-479d-c539-b05d940bc07d"
      },
      "outputs": [
        {
          "data": {
            "text/plain": [
              "Text(0.5, 1.0, 'Loss Curve of Baseline')"
            ]
          },
          "execution_count": 69,
          "metadata": {},
          "output_type": "execute_result"
        },
        {
          "data": {
            "image/png": "[encoded data removed]",
            "text/plain": [
              "<Figure size 432x288 with 1 Axes>"
            ]
          },
          "metadata": {
            "needs_background": "light"
          },
          "output_type": "display_data"
        }
      ],
      "source": [
        "# save the loss curve figure in a file for the report\n",
        "rnn_loss_list = torch.tensor(rnn_loss_list, device = 'cpu')\n",
        "plt.plot(np.arange(len(rnn_loss_list)), rnn_loss_list)\n",
        "plt.title('Loss Curve of Baseline')"
      ]
    },
    {
      "cell_type": "markdown",
      "metadata": {
        "id": "5v1trnxiG65o"
      },
      "source": [
        "### Prediction Accuracy\n",
        "\n",
        "Print out 5 prediction samples, and calculate the prediction accuracy over the training dataset. You will see an accuracy of over 70%."
      ]
    },
    {
      "cell_type": "code",
      "execution_count": null,
      "metadata": {
        "colab": {
          "base_uri": "https://localhost:8080/"
        },
        "id": "FLdflv6XG65o",
        "outputId": "58b4ed08-62a1-4d95-a5b5-86b1fb46d8d1"
      },
      "outputs": [
        {
          "name": "stdout",
          "output_type": "stream",
          "text": [
            "(tensor([4, 5, 0, 0, 0, 0, 0, 0, 0, 0]), tensor(2), tensor([1, 4, 5, 2, 0, 0, 0, 0, 0, 0]), tensor(4))\n",
            "pred:\t ['entrez', '!']\n",
            "\n",
            "tgt:\t ['unk', '!', 'eos', 'pad', 'pad', 'pad', 'pad', 'pad', 'pad']\n",
            "\n",
            "pred:\t ['je', 'unk', 'vu', '.']\n",
            "\n",
            "tgt:\t ['je', \"t'en\", 'dois', 'une', '.', 'eos', 'pad', 'pad', 'pad']\n",
            "\n",
            "pred:\t ['est-il', 'grand', '?']\n",
            "\n",
            "tgt:\t ['est-il', 'unk', '?', 'eos', 'pad', 'pad', 'pad', 'pad', 'pad']\n",
            "\n",
            "pred:\t ['je', 'suis', 'unk', '.']\n",
            "\n",
            "tgt:\t ['je', 'suis', 'unk', '.', 'eos', 'pad', 'pad', 'pad', 'pad']\n",
            "\n",
            "pred:\t ['unk', 'à', 'qui', 'que', 'ce', 'soit', '!']\n",
            "\n",
            "tgt:\t ['demande', 'à', 'unk', 'qui', '!', 'eos', 'pad', 'pad', 'pad']\n",
            "\n",
            "Prediction Acc.: 0.7096\n"
          ]
        }
      ],
      "source": [
        "def comp_acc(pred, gt, valid_len):\n",
        "  N, T_gt = gt.shape[:2]\n",
        "  _, T_pr = pred.shape[:2]\n",
        "  assert T_gt == T_pr, 'Prediction and target should have the same length.'\n",
        "  len_mask = torch.arange(T_gt).expand(N, T_gt)\n",
        "  len_mask = len_mask < valid_len[:, None]\n",
        "  \n",
        "  pred_crr = (pred == gt).float() * len_mask.float() # filter out the 'bos' token\n",
        "  pred_acc = pred_crr.sum(dim=-1) / (valid_len - 1).float() # minus the 'bos' token\n",
        "  return pred_acc\n",
        "  \n",
        "def evaluate_rnn(net, train_iter, device):\n",
        "  acc_list = []\n",
        "  for i, train_data in enumerate(train_iter):\n",
        "    train_data = [ds.to(device) for ds in train_data]\n",
        "\n",
        "    pred = net.predict(*train_data)\n",
        "\n",
        "    pred_acc = comp_acc(pred.detach().cpu(), train_data[2].detach().cpu()[:, 1:], train_data[3].cpu())\n",
        "    acc_list.append(pred_acc)\n",
        "    if i < 5:# print 5 samples from 5 batches\n",
        "      pred = pred[0].detach().cpu()\n",
        "      pred_seq = []\n",
        "      for t in range(MAX_LEN+1):\n",
        "        pred_wd = vocab_fra.index2word[pred[t].item()] \n",
        "        if pred_wd == 'eos':\n",
        "          break\n",
        "          \n",
        "        pred_seq.append(pred_wd)\n",
        "\n",
        "      print('pred:\\t {}\\n'.format(pred_seq))\n",
        "      print('tgt:\\t {}\\n'.format([vocab_fra.index2word[t.item()] for t in train_data[2][0][1:].cpu()]))\n",
        "\n",
        "  print('Prediction Acc.: {:.4f}'.format(torch.cat(acc_list).mean()))\n",
        "  \n",
        "seed(1)\n",
        "batch_size = 32\n",
        "\n",
        "vocab_eng, vocab_fra, train_iter = load_data_nmt(batch_size)\n",
        "\n",
        "evaluate_rnn(rnn_net, train_iter, device)"
      ]
    },
    {
      "cell_type": "markdown",
      "metadata": {
        "id": "baeu3Lk0G65o"
      },
      "source": [
        "## Sequence to Sequence with LSTM and Attention\n",
        "\n",
        "Now let's try to improve our model by using an LSTM and the attention mechanism.\n"
      ]
    },
    {
      "cell_type": "markdown",
      "metadata": {
        "id": "7RCcKIb1G65p"
      },
      "source": [
        "### LSTM\n",
        "\n",
        "LSTMs eliminate the gradient explosion/vanishing problem. Its state and gate update at each time step can be summarized as follows:\n",
        "\n",
        "$$\n",
        "\\begin{align*}\n",
        "&\\text{State Update} &&& C_t &= F_t \\odot C_{t-1} + I_t \\odot \\tilde{C}_t \\\\\n",
        "&\\text{Hidden States} &&& H_t &= O_t \\odot \\text{tanh}(C_t) \\\\\n",
        "&\\text{Proposal} &&& \\tilde{C}_t &= \\text{tanh}( X_tW_{xc} + H_{t-1}W_{hc} + b_c ) \\\\\n",
        "&\\text{Input Gate} &&& I_t &= \\sigma( X_tW_{xi} + H_{t-1}W_{hi} + b_i ) \\\\\n",
        "&\\text{Forget Gate} &&& F_t &= \\sigma( X_tW_{xf} + H_{t-1}W_{hf} + b_f ) \\\\\n",
        "&\\text{Output Gate} &&& O_t &= \\sigma( X_tW_{xo} + H_{t-1}W_{ho} + b_o ) \\\\\n",
        "\\end{align*}\n",
        "$$\n",
        "\n",
        "Implement the LSTM class below. In particular,\n",
        "-  Complete the initialization function *init_params()*. Weights should be initialized using `torch.randn` multiplied with a scale of 0.1. Biases should be initialized to 0.\n",
        "- Complete the function *lstm()* which performs the feed-forward pass of LSTM. **Do not** use `nn.LSTM` or `nn.LSTMCell` in your implementation."
      ]
    },
    {
      "cell_type": "code",
      "execution_count": null,
      "metadata": {
        "deletable": false,
        "id": "wO8PeoRDG65p",
        "nbgrader": {
          "cell_type": "code",
          "checksum": "386a51799571153e76849c4b5ebb7f73",
          "grade": false,
          "grade_id": "cell-e43516618029ca06",
          "locked": false,
          "schema_version": 3,
          "solution": true,
          "task": false
        }
      },
      "outputs": [],
      "source": [
        "class LSTM(nn.Module):\n",
        "  def __init__(self, input_size, hidden_size, device):\n",
        "    super(LSTM, self).__init__()\n",
        "    self.device = device\n",
        "    self.params = nn.ParameterList(self.init_params(input_size, hidden_size))\n",
        "    \"\"\"\n",
        "    Inputs:\n",
        "      input_size: int, feature dimension of input sequence\n",
        "      hidden_size: int, feature dimension of hidden state\n",
        "      device: torch.device()\n",
        "    \"\"\"\n",
        "  \n",
        "  def init_params(self, input_size, hidden_size):\n",
        "    \"\"\"\n",
        "    Inputs:\n",
        "      input_size: int, feature dimension of input sequence\n",
        "      hidden_size: int, feature dimension of hidden state\n",
        "      \n",
        "    Outputs:\n",
        "      Weights for proposal: W_xc, W_hc, b_c\n",
        "      Weights for input gate: W_xi, W_hi, b_i\n",
        "      Weights for forget gate: W_xf, W_hf, b_f\n",
        "      Weights for output gate: W_xo, W_ho, b_o\n",
        "    \"\"\"\n",
        "    W_xc, W_hc, b_c = None, None, None\n",
        "    W_xi, W_hi, b_i = None, None, None\n",
        "    W_xf, W_hf, b_f = None, None, None\n",
        "    W_xo, W_ho, b_o = None, None, None\n",
        "    ##############################################################################\n",
        "    # TODO1: Initialize the weights and biases. The result will be stored in \n",
        "    # `params` below. Weights should be initialized using `torch.randn` multiplied \n",
        "    # with the scale (0.1). Biases should be initialized to 0.\n",
        "    ##############################################################################\n",
        "    # Replace \"pass\" statement with your code\n",
        "\n",
        "    W_xc = nn.Parameter(0.1*torch.randn(input_size, hidden_size).to(float).to(self.device))\n",
        "    W_xi = nn.Parameter(0.1*torch.randn(input_size, hidden_size).to(float).to(self.device))\n",
        "    W_xf = nn.Parameter(0.1*torch.randn(input_size, hidden_size).to(float).to(self.device))\n",
        "    W_xo = nn.Parameter(0.1*torch.randn(input_size, hidden_size).to(float).to(self.device))\n",
        "\n",
        "    W_hc = nn.Parameter(0.1*torch.randn(hidden_size, hidden_size).to(float).to(self.device))\n",
        "    W_hi = nn.Parameter(0.1*torch.randn(hidden_size, hidden_size).to(float).to(self.device))\n",
        "    W_hf = nn.Parameter(0.1*torch.randn(hidden_size, hidden_size).to(float).to(self.device))\n",
        "    W_ho = nn.Parameter(0.1*torch.randn(hidden_size, hidden_size).to(float).to(self.device))\n",
        "\n",
        "    b_c = nn.Parameter(torch.zeros(hidden_size).to(float).to(self.device))\n",
        "    b_i = nn.Parameter(torch.zeros(hidden_size).to(float).to(self.device))\n",
        "    b_f = nn.Parameter(torch.zeros(hidden_size).to(float).to(self.device))\n",
        "    b_o = nn.Parameter(torch.zeros(hidden_size).to(float).to(self.device))\n",
        "\n",
        "    # pass\n",
        "\n",
        "    # END OF YOUR CODE\n",
        "    \n",
        "    params = [W_xc, W_hc, b_c, W_xi, W_hi, b_i, W_xf, W_hf, b_f, W_xo, W_ho, b_o]\n",
        "    return params\n",
        "\n",
        "  \n",
        "  def lstm(self, X, state):\n",
        "    \"\"\"\n",
        "    Inputs:\n",
        "      X: tuple of tensors (src, src_len). src, size (N, D_in) or (N, T, D_in), where N is the batch size,\n",
        "        T is the length of the sequence(s), D_in is the input size. src_len, size of (N,), is\n",
        "        the valid length for each sequence.\n",
        "        \n",
        "      state: tuple of tensors (h, c). h, size of (N, hidden_size) is the hidden state of LSTM. c, size of \n",
        "            (N, hidden_size), is the memory cell of the LSTM.\n",
        "      \n",
        "    Outputs:\n",
        "      o: tensor of size (N, T, hidden_size). Contains the output features (the hidden state H_t) for each t.\n",
        "      state: the same as input state. Contains the hidden state H_T and cell state C_T for the last timestep T.\n",
        "    \"\"\"\n",
        "    \n",
        "    src, src_len = X\n",
        "    h, c = state\n",
        "\n",
        "    # make sure always has a T dim\n",
        "    if len(src.shape) == 2:\n",
        "      src = src.unsqueeze(1)\n",
        "\n",
        "    N, T, D_in = src.shape\n",
        "    W_xc, W_hc, b_c, W_xi, W_hi, b_i, W_xf, W_hf, b_f, W_xo, W_ho, b_o = self.params\n",
        "    o = []\n",
        "    ##############################################################################\n",
        "    # TODO2: Implement the forward pass of the LSTM. LSTM must not be updated by\n",
        "    # unvalid inputs. In other words, you should update LSTM only when\n",
        "    # valid words come in. (use src_len)\n",
        "    ##############################################################################\n",
        "    # Replace \"pass\" statement with your code\n",
        "    device = self.device\n",
        "    hidden_size = h.shape[1]\n",
        "\n",
        "    o_res = torch.zeros(N, T, hidden_size).to(float).to(device)\n",
        "    c_res = torch.zeros(N, hidden_size).to(float).to(device)\n",
        "    h_res = torch.zeros(N, hidden_size).to(float).to(device)\n",
        "    # o = torch.zeros(N, T, hidden_size).to(float).to(device)\n",
        "    # H_t = h.to(float).to(device)\n",
        "    # C_t = c.to(float).to(device)\n",
        "    # X_t = torch.zeros(N, D_in).to(float).to(device)\n",
        "    # I_t = torch.zeros(N, D_in).to(float).to(device)\n",
        "    # O_t = torch.zeros(N, D_in).to(float).to(device)\n",
        "    # F_t = torch.zeros(N, D_in).to(float).to(device)\n",
        "    # # src = src.to(device)\n",
        "    # for t in range(T):\n",
        "    #   X_t = src[:, t, :].to(float).to(device) # (N, D)\n",
        "    #   I_t = torch.sigmoid(X_t@W_xi + H_t@W_hi + b_i)\n",
        "    #   O_t = torch.sigmoid(X_t@W_xo + H_t@W_ho + b_o)\n",
        "    #   F_t = torch.sigmoid(X_t@W_xf + H_t@W_hf + b_f)\n",
        "    #   C_tilde = torch.tanh(X_t@W_xc + H_t@W_hc + b_c)\n",
        "    #   C_t = F_t*C_t + I_t*C_tilde\n",
        "    #   H_t = O_t*torch.tanh(C_t)\n",
        "    #   o[:,t,:] = H_t\n",
        "    # # pass\n",
        "    # for n in range(N):\n",
        "    #   valid = src_len[n].long()\n",
        "    #   for t in range(T):\n",
        "    #     if (t >= valid):\n",
        "    #       o[n,t,:] = o[n,(valid-1),:]\n",
        "    # h = H_t\n",
        "    # c = C_t\n",
        "    for n in range(N):\n",
        "      o = torch.zeros(T, hidden_size).to(float).to(device)\n",
        "      H_t = h[n].to(float).to(device)\n",
        "      C_t = c[n].to(float).to(device)\n",
        "      X_t = torch.zeros(D_in).to(float).to(device)\n",
        "      I_t = torch.zeros(D_in).to(float).to(device)\n",
        "      O_t = torch.zeros(D_in).to(float).to(device)\n",
        "      F_t = torch.zeros(D_in).to(float).to(device)\n",
        "      for t in range(T):\n",
        "        if (t < src_len[n]):\n",
        "          X_t = src[n, t, :].to(float).to(device)\n",
        "          I_t = torch.sigmoid(X_t@W_xi + H_t@W_hi + b_i)\n",
        "          O_t = torch.sigmoid(X_t@W_xo + H_t@W_ho + b_o)\n",
        "          F_t = torch.sigmoid(X_t@W_xf + H_t@W_hf + b_f)\n",
        "          C_tilde = torch.tanh(X_t@W_xc + H_t@W_hc + b_c)\n",
        "          C_t = F_t*C_t + I_t*C_tilde\n",
        "          H_t = O_t*torch.tanh(C_t)\n",
        "        o[t] = H_t\n",
        "      o_res[n] = o\n",
        "      h_res[n] = H_t\n",
        "      c_res[n] = C_t\n",
        "    h = h_res\n",
        "    c = c_res\n",
        "    o = o_res\n",
        "\n",
        "    # END OF YOUR CODE\n",
        "\n",
        "    state = (h, c)\n",
        "    return o, state\n",
        "  \n",
        "  def forward(self, inputs, state):\n",
        "    return self.lstm(inputs, state)"
      ]
    },
    {
      "cell_type": "markdown",
      "metadata": {
        "id": "2yYsrzoEG65p"
      },
      "source": [
        "Check that your output has the correct shape. You should see:\n",
        "\n",
        "```\n",
        "torch.Size([12, 8, 5])\n",
        "torch.Size([12, 5])\n",
        "torch.Size([12, 5])\n",
        "```"
      ]
    },
    {
      "cell_type": "code",
      "execution_count": null,
      "metadata": {
        "colab": {
          "base_uri": "https://localhost:8080/"
        },
        "id": "ZladPD0NG65p",
        "outputId": "c5961d1b-70dd-474d-eb75-ca37cd28e40f"
      },
      "outputs": [
        {
          "name": "stdout",
          "output_type": "stream",
          "text": [
            "torch.Size([12, 8, 5])\n",
            "torch.Size([12, 5])\n",
            "torch.Size([12, 5])\n",
            "Correct\n"
          ]
        }
      ],
      "source": [
        "test_lstm = LSTM(10, 5, torch.device('cuda:0'))\n",
        "test_src = torch.ones(12, 8, 10)\n",
        "test_src[:,7] = 0\n",
        "test_src_len = torch.ones(12) * 7\n",
        "test_h = torch.zeros(12, 5).float()\n",
        "test_c = torch.zeros(12, 5).float()\n",
        "\n",
        "test_o, test_state = test_lstm((test_src, test_src_len), (test_h, test_c))\n",
        "\n",
        "print(test_o.shape)\n",
        "print(test_state[0].shape)\n",
        "print(test_state[1].shape)\n",
        "\n",
        "# must not be updated for the last element in this test case.\n",
        "if (test_o.shape == (12,8,5) and test_state[0].shape == (12,5) and test_state[1].shape == (12,5) and torch.equal(test_o[:,6], test_o[:,7])):\n",
        "  print(\"Correct\")\n",
        "  LSTM_score = 5\n",
        "\n",
        "else:\n",
        "  print(\"Wrong\")\n",
        "  LSTM_score = 0"
      ]
    },
    {
      "cell_type": "markdown",
      "metadata": {
        "id": "g2ddJSbVG65q"
      },
      "source": [
        "### Attention Mechanism"
      ]
    },
    {
      "cell_type": "markdown",
      "metadata": {
        "id": "FS_uB35eG65q"
      },
      "source": [
        "Another improvement we can make to our model is the Attention Mechanism. An example illustrating why applying attention mechanisms can improve the performance is shown in the picture below. An English sentence and its Chinese is visualized and aligned into blue boxes and red boxes, respectively. It can be seen that the Chinese character '她' has a long distance from its English counterpart, 'she'. Since only the final hidden state is passed to the decoder, it's hard for the baseline model to 'attend' to information a long time ago."
      ]
    },
    {
      "cell_type": "markdown",
      "metadata": {
        "id": "kywqkQslG65q"
      },
      "source": [
        "<div>\n",
        "<img src=\"https://lilianweng.github.io/lil-log/assets/images/encoder-decoder-example.png\" width=\"600\"/>\n",
        "</div>\n",
        "Image source: https://lilianweng.github.io/lil-log/assets/images/encoder-decoder-example.png"
      ]
    },
    {
      "cell_type": "markdown",
      "metadata": {
        "id": "4oHnD3tuG65q"
      },
      "source": [
        "- **Attention**\n",
        "\n",
        "    Given a query, $\\mathbf{q} \\in R^{d_q}$, and a set of $N$ (key, value) pairs, $\\{ \\mathbf{k}_i, \\mathbf{v}_i\\}^N$ where $k_i \\in R^{d_k}$ and $v_i \\in R^{d_v}$, the attention mechanism computes a weighted sum of values based on the normalized score obtained from the query and each key:\n",
        "    \n",
        "    \\begin{align*}\n",
        "    a_i &= \\alpha(\\mathbf{q}, \\mathbf{k_i}) \\\\\n",
        "    \\mathbf{a} &= [a_1, ..., a_n] \\\\\n",
        "    \\mathbf{b} &= \\text{softmax}(\\mathbf{a}) \\\\\n",
        "    \\mathbf{o} &= \\mathbf{b} \\cdot \\mathbf{V}\\text{, where } \\mathbf{V} = \\{\\mathbf{v}_i\\}^N\n",
        "    \\end{align*}\n",
        "    \n",
        "    The $\\alpha()$ function, which maps two vectors into a scalar, is the score function that can be chosen from a wide range of functions: e.g. the cosine function, dot-product function, scaled dot-product funtion and etc.\n"
      ]
    },
    {
      "cell_type": "markdown",
      "metadata": {
        "id": "4AtBw1NKG65q"
      },
      "source": [
        "- **Masked Softmax**\n",
        "\n",
        "    For our machine translation task, the inputs and outputs may be of variable length (ie. each training example may have a different number of words). As shown above, we pad our inputs with a special `pad` token so that they all have the same length to make them easier to work with. However, when we take the softmax, we only want to include the non-`pad` items, so we need to write a special `masked_softmax` function to handle this. We can achieve the masking by setting masked elements to a large negative value. Then when we take the `exp`, those elements will be 0 and won't contribute to the softmax. "
      ]
    },
    {
      "cell_type": "code",
      "execution_count": null,
      "metadata": {
        "id": "i85-MWhBG65q"
      },
      "outputs": [],
      "source": [
        "def masked_softmax(X, valid_length):\n",
        "  \"\"\"\n",
        "  inputs:\n",
        "    X: 3-D tensor\n",
        "    valid_length: 1-D or 2-D tensor\n",
        "  \"\"\"\n",
        "  mask_value = -1e7 \n",
        "\n",
        "  if len(X.shape) == 2:\n",
        "    X = X.unsqueeze(1)\n",
        "\n",
        "  N, n, m = X.shape\n",
        "\n",
        "  if len(valid_length.shape) == 1:\n",
        "    valid_length = valid_length.repeat_interleave(n, dim=0)\n",
        "  else:\n",
        "    valid_length = valid_length.reshape((-1,))\n",
        "\n",
        "  mask = torch.arange(m)[None, :].to(X.device) >= valid_length[:, None]\n",
        "  X.view(-1, m)[mask] = mask_value\n",
        "\n",
        "  Y = torch.softmax(X, dim=-1)\n",
        "\n",
        "  \n",
        "  return Y"
      ]
    },
    {
      "cell_type": "code",
      "execution_count": null,
      "metadata": {
        "colab": {
          "base_uri": "https://localhost:8080/"
        },
        "id": "z7ZHgxnbG65q",
        "outputId": "d8557342-82b5-43ee-f3d3-e0a39be08a61"
      },
      "outputs": [
        {
          "data": {
            "text/plain": [
              "tensor([[[0.4667, 0.5333, 0.0000, 0.0000],\n",
              "         [0.5474, 0.4526, 0.0000, 0.0000]],\n",
              "\n",
              "        [[0.2324, 0.5569, 0.2107, 0.0000],\n",
              "         [0.3379, 0.4132, 0.2489, 0.0000]]])"
            ]
          },
          "execution_count": 74,
          "metadata": {},
          "output_type": "execute_result"
        }
      ],
      "source": [
        "masked_softmax(torch.rand(2, 2, 4), torch.tensor([2, 3]))"
      ]
    },
    {
      "cell_type": "markdown",
      "metadata": {
        "id": "DzdNXsCqG65q"
      },
      "source": [
        "- **Scaled Dot Product Attention**\n",
        "    - The scaled dot-product attention uses the score function as: \n",
        "  $\\alpha(\\mathbf{q}, \\mathbf{k}) = \\mathbf{q} \\mathbf{k}^T / \\sqrt{d}$, where $d$ is the dimension of query (which in this case is equal to the dimension of the keys). The following figures visualizes this process in matrix form, in which $Q \\in \\mathcal{R}^{m\\times d_k}, \\mathbf{K} \\in \\mathcal{R}^{n \\times d_k}$, and $\\mathbf{V} \\in \\mathcal{R}^{n \\times d_v}$.\n",
        "\n",
        "    <div>\n",
        "    <img src=\"http://jalammar.github.io/images/t/self-attention-matrix-calculation-2.png\" width=\"600\"/>\n",
        "    </div>\n",
        "Image source: http://jalammar.github.io/images/t/self-attention-matrix-calculation-2.png\n",
        "\n",
        "\n",
        "Implement the DotProductAttention below. Do not use any loops in your implementation."
      ]
    },
    {
      "cell_type": "code",
      "execution_count": null,
      "metadata": {
        "deletable": false,
        "id": "xNC5x7VrG65q",
        "nbgrader": {
          "cell_type": "code",
          "checksum": "8b7a6c1703c6c230a006a6b86326a3b9",
          "grade": false,
          "grade_id": "cell-eac4fccbcd4f068e",
          "locked": false,
          "schema_version": 3,
          "solution": true,
          "task": false
        }
      },
      "outputs": [],
      "source": [
        "class DotProductAttention(nn.Module): \n",
        "  def __init__(self):\n",
        "      super(DotProductAttention, self).__init__()\n",
        "\n",
        "  def forward(self, query, key, value, valid_length=None):\n",
        "    \"\"\"\n",
        "    inputs:\n",
        "      query: tensor of size (B, n, d)\n",
        "      key: tensor of size (B, m, d)\n",
        "      value: tensor of size (B, m, dim_v)\n",
        "      valid_length: (B, )\n",
        "\n",
        "      B is the batch_size, n is the number of queries, m is the number of <key, value> pairs,\n",
        "      d is the feature dimension of the query, and dim_v is the feature dimension of the value.\n",
        "\n",
        "    Outputs:\n",
        "      attention: tensor of size (B, n, dim_v), weighted sum of values\n",
        "    \"\"\"\n",
        "    ##############################################################################\n",
        "    # TODO3: Implement the forward pass of DotProductAttention. Do not\n",
        "    # use any loops in your implementation.\n",
        "    ##############################################################################\n",
        "    # Replace \"pass\" statement with your code\n",
        "\n",
        "    d = query.shape[2]\n",
        "    alpha = query.bmm(key.transpose(1, 2))/np.sqrt(d)\n",
        "    ms = masked_softmax(alpha, valid_length)\n",
        "    attention = ms.bmm(value)\n",
        "\n",
        "    # pass\n",
        "    \n",
        "    # END OF YOUR CODE\n",
        "\n",
        "    return attention"
      ]
    },
    {
      "cell_type": "markdown",
      "metadata": {
        "id": "WzXKt6chG65r"
      },
      "source": [
        "### Correctness Check for DotProductAttention\n",
        "\n",
        "Run the following snippet to check your implementation of DotProductAttention.\n",
        "\n",
        "Expected output:\n",
        "\n",
        "```\n",
        "tensor([[[ 2.0000,  3.0000, 4.0000, 5.0000]],\n",
        "\n",
        "        [[10.0000, 11.0000, 12.0000, 13.0000]]])\n",
        "```\n"
      ]
    },
    {
      "cell_type": "code",
      "execution_count": null,
      "metadata": {
        "colab": {
          "base_uri": "https://localhost:8080/"
        },
        "id": "2hkj7oVXG65r",
        "outputId": "559b1da9-072d-4d00-d1a3-242d6504a32c"
      },
      "outputs": [
        {
          "name": "stdout",
          "output_type": "stream",
          "text": [
            "Correct\n"
          ]
        }
      ],
      "source": [
        "att = DotProductAttention()\n",
        "keys = torch.ones((2,10,2),dtype=torch.float)\n",
        "values = torch.arange((40), dtype=torch.float).view(1,10,4).repeat(2,1,1)\n",
        "res = att(torch.ones((2,1,2),dtype=torch.float), keys, values, torch.FloatTensor([2, 6]))\n",
        "\n",
        "ans = torch.tensor([[[ 2.0000,  3.0000,  4.0000,  5.0000]],[[10.0000, 11.0000, 12.0000, 13.0000]]])\n",
        "\n",
        "if torch.all(torch.abs(ans - res) < 1e-03):\n",
        "  print(\"Correct\")\n",
        "  Dot_score = 5\n",
        "else:\n",
        "  print(\"Wrong\")\n",
        "  Dot_score = 0"
      ]
    },
    {
      "cell_type": "markdown",
      "metadata": {
        "id": "0WG37XqrG65r"
      },
      "source": [
        "- **MLP Attention**\n",
        "\n",
        "  In MLP attention, we project both query and keys into $R^{h}$, add the results, and use a $\\text{tanh}$ before multiplying by the values. The score function is defined as:\n",
        "\n",
        "    $\\alpha(\\mathbf{q}, \\mathbf{k}) = \\mathbf{h}^T\\text{tanh}(W_k\\mathbf{k} + W_q\\mathbf{q})$\n",
        "    \n",
        "    where $\\mathbf{h} \\in R^{h}, \\mathbf{W_k}\\text{, and }\\mathbf{W_q}$ are learnable parameters.\n",
        "    \n",
        "  Implement the MLP attention in matrix form without using any loops."
      ]
    },
    {
      "cell_type": "code",
      "execution_count": null,
      "metadata": {
        "deletable": false,
        "id": "wIznAhcpG65r",
        "nbgrader": {
          "cell_type": "code",
          "checksum": "9440f3519ad5f8037f192758aecca64a",
          "grade": false,
          "grade_id": "cell-6be727894d4fd817",
          "locked": false,
          "schema_version": 3,
          "solution": true,
          "task": false
        }
      },
      "outputs": [],
      "source": [
        "class MLPAttention(nn.Module):  \n",
        "  def __init__(self, d_h, d_k, d_q):\n",
        "    super(MLPAttention, self).__init__()\n",
        "    \"\"\"\n",
        "    Inputs:\n",
        "      d_k: feature dimension of key\n",
        "      d_h: feature dimension of vector h\n",
        "      d_q: feature dimension of query\n",
        "    \"\"\"\n",
        "    ##############################################################################\n",
        "    # TODO4: Initialize learnable parameters\n",
        "    # Use nn.Linear\n",
        "    ##############################################################################\n",
        "    # Replace \"pass\" statement with your code\n",
        "\n",
        "    self.kp = nn.Linear(d_k, d_h)\n",
        "    self.qp = nn.Linear(d_q, d_h)\n",
        "    self.h = nn.Linear(d_h, 1)\n",
        "\n",
        "    # pass\n",
        "\n",
        "    # END OF YOUR CODE\n",
        "\n",
        "  def forward(self, query, key, value, valid_length):\n",
        "    \"\"\"\n",
        "    inputs:\n",
        "      query: tensor of size (B, n, d_q)\n",
        "      key: tensor of size (B, m, d_k)\n",
        "      value: tensor of size (B, m, dim_v)\n",
        "      valid_length: either (B, )\n",
        "\n",
        "      B is the batch_size, n is the number of queries, m is the number of <key, value> pairs,\n",
        "      d_q is the feature dimension of the query, d_k is the feature dimension of the key, \n",
        "      and dim_v is the feature dimension of the value.\n",
        "\n",
        "    Outputs:\n",
        "      Y: tensor of size (B, n, dim_v), weighted sum of values\n",
        "    \"\"\"\n",
        "    ##############################################################################\n",
        "    # TODO5: Implement the forward pass of MLPAttention. Do not\n",
        "    # use any loops in your implementation.\n",
        "    ##############################################################################\n",
        "    # Replace \"pass\" statement with your code\n",
        "    \n",
        "    wqq = self.qp(query).unsqueeze(2) # (B, n, 1, d_h)\n",
        "    wkk = self.kp(key).unsqueeze(1) # (B, 1, m, d_h)\n",
        "    alpha = self.h(torch.tanh(wqq + wkk)).squeeze(-1) # (B, n, m)\n",
        "    ms = masked_softmax(alpha, valid_length)\n",
        "    Y = ms.bmm(value)\n",
        "\n",
        "    # pass\n",
        "    \n",
        "    # END OF YOUR CODE\n",
        "    return Y"
      ]
    },
    {
      "cell_type": "markdown",
      "metadata": {
        "id": "4l47pb27G65r"
      },
      "source": [
        "### Correctness Check for MLPAttention\n",
        "\n",
        "Run the following snippet to check your implementation of MLPAttention.\n",
        "\n",
        "Expected output:\n",
        "\n",
        "```\n",
        "tensor([[[ 2.0000,  3.0000, 4.0000, 5.0000]],\n",
        "\n",
        "        [[10.0000, 11.0000, 12.0000, 13.0000]]])\n",
        "```"
      ]
    },
    {
      "cell_type": "code",
      "execution_count": null,
      "metadata": {
        "colab": {
          "base_uri": "https://localhost:8080/"
        },
        "id": "iqONoGz3G65r",
        "outputId": "66bec7b2-f7b8-4b8f-ecdb-e9123f3f5a10"
      },
      "outputs": [
        {
          "name": "stdout",
          "output_type": "stream",
          "text": [
            "Correct\n"
          ]
        }
      ],
      "source": [
        "atten = MLPAttention(4, 2, 2)\n",
        "res = atten(torch.ones((2,1,2),dtype=torch.float), keys, values, torch.FloatTensor([2, 6])).detach()\n",
        "\n",
        "ans = torch.tensor([[[ 2.0000,  3.0000,  4.0000,  5.0000]],[[10.0000, 11.0000, 12.0000, 13.0000]]])\n",
        "\n",
        "if torch.all(torch.abs(ans - res) < 1e-03):\n",
        "  print(\"Correct\")\n",
        "  MLP_score = 5\n",
        "\n",
        "else:\n",
        "  print(\"Wrong\")\n",
        "  MLP_score = 0"
      ]
    },
    {
      "cell_type": "markdown",
      "metadata": {
        "id": "khJX-HWEG65r"
      },
      "source": [
        "    \n",
        "- **Using Attention in seq2seq Models**\n",
        "\n",
        "<img src='https://drive.google.com/uc?id=18Z_FO69T-hS5XUltsrC4DDvoSM8LoY9y'>\n",
        "\n",
        "Image source: https://d2l.ai/_images/seq2seq-attention.svg\n",
        "\n",
        "Now we want to add attention to the seq2seq model. As we previously stated, attention allows the decoder to have more direct access to previous states in the encoder. In the context of machine translation, when the decoder is predicting a word in the translation, it can focus on certain words in the original language. Therefore, we want the keys and the values of the attention layer to be the output of the encoder at each step. The query for the attention layer would be the decoder's previous hidden state. The output of the attention layer, referred to as the context, is concatenated with the decoder input and fed into the decoder.\n",
        "    \n",
        "In rough pseudocode, this looks like:\n",
        "\n",
        "    \n",
        "    context = attention(query=h_prev, keys=encoder_output, values=encoder_output)\n",
        "    decoder_input = concatenate([decoder_input, context])"
      ]
    },
    {
      "cell_type": "markdown",
      "metadata": {
        "id": "ppM2pDCsG65r"
      },
      "source": [
        "### LSTM Encoder-Decoder\n",
        "\n",
        "\n",
        "Build a seq2seq model with LSTM and attention.\n",
        "\n",
        "- Complete the Encoder forward() function.\n",
        "- Complete the Decoder forward() and predict() functions. The decoder should utilize the attention mechanism.\n",
        "- Find a good learning rate for training this model. Feel free to add code here to test out different learning rates, but make sure that your best model is saved in `lstm_net`."
      ]
    },
    {
      "cell_type": "code",
      "execution_count": null,
      "metadata": {
        "deletable": false,
        "id": "s_SKHSSkG65r",
        "nbgrader": {
          "cell_type": "code",
          "checksum": "fbd2ff0f838eab4eeb305bd07bbd3a8e",
          "grade": false,
          "grade_id": "cell-85d8bda82bc92dd8",
          "locked": false,
          "schema_version": 3,
          "solution": true,
          "task": false
        }
      },
      "outputs": [],
      "source": [
        "class Encoder(nn.Module):\n",
        "  def __init__(self, vocab_size, embedding_dim, hidden_size, device):\n",
        "    super(Encoder, self).__init__()\n",
        "    \"\"\"\n",
        "    inputs:\n",
        "      vocab_size: int, the number of words in the vocabulary\n",
        "      embedding_dim: int, dimension of the word embedding\n",
        "      hidden_size: int, dimension of vallina RNN\n",
        "    \"\"\"\n",
        "    self.embedding = nn.Embedding(vocab_size, embedding_dim)\n",
        "    self.enc = LSTM(embedding_dim, hidden_size, device)\n",
        "    self.hidden_size = hidden_size\n",
        "    \n",
        "  def forward(self, sources, valid_len):\n",
        "    ##############################################################################\n",
        "    # TODO6: Implement LSTM Encoder forward pass\n",
        "    ##############################################################################\n",
        "    # Replace \"pass\" statement with your code\n",
        "    \n",
        "    word_embedded = self.embedding(sources.to(device)).to(device) # (N, T, hidden_size)\n",
        "  \n",
        "    N = word_embedded.shape[0]\n",
        "    \n",
        "    h = sources.new_zeros(N, self.hidden_size).float().to(device) # initialize hidden state with zeros\n",
        "    c = sources.new_zeros(N, self.hidden_size).float().to(device)\n",
        "\n",
        "    outputs, (h, c) = self.enc((word_embedded, valid_len), (h, c)) # (N, T, hidden_size), ((N, hidden_size), (N, hidden_size))\n",
        "\n",
        "    # END OF YOUR CODE\n",
        "    return outputs, (h, c)"
      ]
    },
    {
      "cell_type": "code",
      "execution_count": null,
      "metadata": {
        "deletable": false,
        "id": "kg-hp8UvG65s",
        "nbgrader": {
          "cell_type": "code",
          "checksum": "d8f15ad91df74611a4f70744a202ad53",
          "grade": false,
          "grade_id": "cell-154ce877082ed913",
          "locked": false,
          "schema_version": 3,
          "solution": true,
          "task": false
        }
      },
      "outputs": [],
      "source": [
        "class Decoder(nn.Module):\n",
        "  def __init__(self, vocab_size, embedding_dim, hidden_size, device):\n",
        "    super(Decoder, self).__init__()\n",
        "    \"\"\"\n",
        "    inputs:\n",
        "      vocab_size: int, the number of words in the vocabulary\n",
        "      embedding_dim: int, dimension of the word embedding\n",
        "      hidden_size: int, dimension of vallina RNN\n",
        "    \"\"\"\n",
        "    \n",
        "    self.embedding = nn.Embedding(vocab_size, embedding_dim)\n",
        "    self.enc = LSTM(embedding_dim+hidden_size, hidden_size, device)\n",
        "    self.att = DotProductAttention()\n",
        "    self.output_emb = nn.Linear(hidden_size, vocab_size)\n",
        "    self.hidden_size = hidden_size\n",
        "    \n",
        "  def forward(self, state, target, valid_len):\n",
        "    loss = 0\n",
        "    preds = []\n",
        "    \n",
        "    ##############################################################################\n",
        "    # TODO7: Implement LSTM Decoder forward pass. Your solution should also use\n",
        "    # self.att for attention.\n",
        "    ##############################################################################\n",
        "    # Replace \"pass\" statement with your code\n",
        "\n",
        "    # word_embedded = self.embedding(target).to(device) # (N, T, embedding_dim)\n",
        "    # # print(\"target.shape\", target.shape)\n",
        "    # # print(\"word_embedded.shape\", word_embedded.shape)\n",
        "    # N, T = word_embedded.shape[:2]\n",
        "\n",
        "    # outputs, (h, c), src_len = state # (N, T, hidden_size), ((N, hidden_size), (N, hidden_size)), (N,)\n",
        "    # # h_prev = h # (N, hidden_size)\n",
        "    # context = self.att(h.unsqueeze(1), outputs, outputs, src_len) # (N, 1, hidden_size)\n",
        "    # concat = torch.cat((word_embedded, context.repeat(1, T, 1)), dim=-1) # (N, T, embedding_dim + hidden_size)\n",
        "    # o, _ = self.enc((concat, valid_len), (h, c))\n",
        "    # preds = self.output_emb(o.float())\n",
        "    \n",
        "    # loss = F.nll_loss(F.log_softmax(preds[:, :T-1].transpose(1,2), dim = 1), target[:, 1:], ignore_index=0, reduction = 'none')\n",
        "    # loss = loss.sum(1).mean()\n",
        "    # preds = preds.argmax(dim=-1)\n",
        "\n",
        "    word_embedded = self.embedding(target).to(device) # (32, 10, 250)\n",
        "    N, T = word_embedded.shape[:2]\n",
        "\n",
        "    outputs, (h, c), src_len = state # (32, 10, 128)\n",
        "    # h_prev = h # (32, 128)\n",
        "    # Decode should somehow calc (32, 10, 420)\n",
        "    pred_res = []\n",
        "    for t in range(T):\n",
        "      context = self.att(h.unsqueeze(1), outputs, outputs, src_len) # (32, 1, 128)\n",
        "      concat = torch.cat((word_embedded[:, t:t+1, :], context), dim = -1) # (32, 1, 250 + 128)\n",
        "      o, (h, c) = self.enc((concat, valid_len), (h, c)) # (32, 1, 128)\n",
        "      pred = self.output_emb(o.float()) # (32, 1, 420)\n",
        "      pred_res.append(pred)\n",
        "    pred_res = torch.cat(pred_res, dim=1) # (32, 10, 420)\n",
        "    loss = F.nll_loss(F.log_softmax(pred_res[:, :T-1].transpose(1,2), dim = 1), target[:, 1:], ignore_index=0, reduction = 'none')\n",
        "    loss = loss.sum(1).mean()\n",
        "    preds = pred_res.argmax(dim=-1)\n",
        "    # END OF YOUR CODE\n",
        "    return loss, preds\n",
        "  \n",
        "  def predict(self, state, target, valid_len):\n",
        "    pred = None\n",
        "    ##############################################################################\n",
        "    # TODO8: Implement LSTM Decoder prediction. Your solution should also use\n",
        "    # self.att for attention.\n",
        "    ##############################################################################\n",
        "    # Replace \"pass\" statement with your code\n",
        "\n",
        "    # pass\n",
        "    outputs, (h, c), src_len = state # (32, 10, 128)\n",
        "    # input = self.embedding(target[:, :1]) # (32, 1, 250)\n",
        "    inputs = target[:, :1]\n",
        "    # print(\"target.shape\", target.shape)\n",
        "    preds = []\n",
        "    # h_prev = h # (32, 128)\n",
        "    for t in range(MAX_LEN+1):\n",
        "      # context = self.att(h.unsqueeze(1), outputs, outputs, src_len) # (N, 1, hidden_size)\n",
        "      # concat = torch.cat((inputs, context), dim=-1) # (N, 1, embedding_dim + hidden_size)\n",
        "      # o, (h, c) = self.enc((concat, valid_len), (h, c)) # (N, 1, hidden_size)\n",
        "      # pred = self.output_emb(o.float()) # (N, 1, vocab_size)\n",
        "      # preds.append(pred) \n",
        "      # inputs = pred.argmax(dim=-1)\n",
        "      # _, pred = self.forward(state, inputs, valid_len) # (N, 1)\n",
        "      # preds.append(pred)\n",
        "      # inputs = pred\n",
        "      context = self.att(h.unsqueeze(1), outputs, outputs, src_len)\n",
        "      concat = torch.cat((self.embedding(inputs), context), dim=-1) # (32, 1, 250 + 128)\n",
        "      o, (h, c) = self.enc((concat, valid_len), (h, c)) # (32, 1, 128)\n",
        "      pred = self.output_emb(o.float()) # (32, 1, 420)\n",
        "      preds.append(pred)\n",
        "      inputs = pred.argmax(dim=-1)\n",
        "\n",
        "    pred = torch.cat(preds, dim=1).argmax(dim=-1)\n",
        "\n",
        "\n",
        "    # END OF YOUR CODE\n",
        "\n",
        "    return pred\n",
        "\n",
        "    "
      ]
    },
    {
      "cell_type": "code",
      "execution_count": null,
      "metadata": {
        "id": "-hKCKqQCG65s"
      },
      "outputs": [],
      "source": [
        "class NMTLSTM(nn.Module):\n",
        "  def __init__(self, src_vocab_size, tgt_vocab_size, embedding_dim, hidden_size, device):\n",
        "    super(NMTLSTM, self).__init__()\n",
        "    self.enc = Encoder(src_vocab_size, embedding_dim, hidden_size, device)\n",
        "    self.dec = Decoder(tgt_vocab_size, embedding_dim, hidden_size, device)\n",
        "    \n",
        "  def forward(self, src, src_len, tgt, tgt_len):\n",
        "    outputs, (h, c) = self.enc(src, src_len)\n",
        "    loss, pred = self.dec((outputs, (h, c), src_len), tgt, tgt_len)\n",
        "    return loss, pred\n",
        "  \n",
        "  def predict(self, src, src_len, tgt, tgt_len):\n",
        "    outputs, (h, c) = self.enc(src, src_len)\n",
        "    pred = self.dec.predict((outputs, (h, c), src_len), tgt, tgt_len)\n",
        "    return pred\n"
      ]
    },
    {
      "cell_type": "code",
      "execution_count": null,
      "metadata": {
        "colab": {
          "base_uri": "https://localhost:8080/"
        },
        "deletable": false,
        "id": "mf0jjZ7GG65s",
        "nbgrader": {
          "cell_type": "code",
          "checksum": "73bc6101f369326d21d0efe8439c652b",
          "grade": false,
          "grade_id": "cell-bfaaa623c7199b2d",
          "locked": false,
          "schema_version": 3,
          "solution": true,
          "task": false
        },
        "outputId": "350ae52e-5305-4053-c0c6-f9346e6b9bfe"
      },
      "outputs": [
        {
          "name": "stdout",
          "output_type": "stream",
          "text": [
            "(tensor([4, 5, 0, 0, 0, 0, 0, 0, 0, 0]), tensor(2), tensor([1, 4, 5, 2, 0, 0, 0, 0, 0, 0]), tensor(4))\n",
            "iter 0 / 7800\tLoss:\t31.535154\n",
            "pred:\t tensor([  9, 347, 304, 347, 182, 112, 348, 131, 131, 184])\n",
            "\n",
            "tgt:\t tensor([ 38, 338,   3,   5,   2,   0,   0,   0,   0])\n",
            "\n",
            "iter 156 / 7800\tLoss:\t12.297737\n",
            "pred:\t tensor([ 3,  5,  3,  3,  5,  2,  5,  2, 24, 24])\n",
            "\n",
            "tgt:\t tensor([ 97,   9,  74, 172,   5,   2,   0,   0,   0])\n",
            "\n",
            "iter 312 / 7800\tLoss:\t10.126424\n",
            "pred:\t tensor([ 3, 11,  2, 11, 11, 11, 11, 11, 11, 11])\n",
            "\n",
            "tgt:\t tensor([ 3, 11,  2,  0,  0,  0,  0,  0,  0])\n",
            "\n",
            "iter 468 / 7800\tLoss:\t7.007372\n",
            "pred:\t tensor([ 14, 116, 179,   3,  11,   2,  11,  11,  11,  11])\n",
            "\n",
            "tgt:\t tensor([ 14, 116, 179, 134,  11,   2,   0,   0,   0])\n",
            "\n",
            "iter 624 / 7800\tLoss:\t5.651042\n",
            "pred:\t tensor([14,  3,  3, 11,  2, 11, 11, 11, 11, 11])\n",
            "\n",
            "tgt:\t tensor([ 14, 385, 230,  11,   2,   0,   0,   0,   0])\n",
            "\n",
            "iter 780 / 7800\tLoss:\t4.987023\n",
            "pred:\t tensor([38, 78, 37, 11,  2, 11, 11, 11, 11, 11])\n",
            "\n",
            "tgt:\t tensor([ 38, 370,   3,  11,   2,   0,   0,   0,   0])\n",
            "\n",
            "iter 936 / 7800\tLoss:\t5.085889\n",
            "pred:\t tensor([198,   3,   3,  11,   2,  11,  11,  11,  11,  11])\n",
            "\n",
            "tgt:\t tensor([290, 108,   3,  11,   2,   0,   0,   0,   0])\n",
            "\n",
            "iter 1092 / 7800\tLoss:\t4.114609\n",
            "pred:\t tensor([ 3, 74,  3,  5,  2, 11, 11, 11, 11, 11])\n",
            "\n",
            "tgt:\t tensor([  3,  74, 129,   5,   2,   0,   0,   0,   0])\n",
            "\n",
            "iter 1248 / 7800\tLoss:\t3.429743\n",
            "pred:\t tensor([ 15, 204,  37,   3,  11,   2,  11,  11,  11,  11])\n",
            "\n",
            "tgt:\t tensor([ 15, 204,  37,   3,  11,   2,   0,   0,   0])\n",
            "\n",
            "iter 1404 / 7800\tLoss:\t2.690371\n",
            "pred:\t tensor([249,  37, 413,   5,   2,   5,   5,   5,   5,  11])\n",
            "\n",
            "tgt:\t tensor([154,  37, 413,   5,   2,   0,   0,   0,   0])\n",
            "\n",
            "iter 1560 / 7800\tLoss:\t2.758703\n",
            "pred:\t tensor([ 36,  75,  45, 322,   5,   2,   5,   5,   5,   5])\n",
            "\n",
            "tgt:\t tensor([321,  75,  45, 322,   5,   2,   0,   0,   0])\n",
            "\n",
            "iter 1716 / 7800\tLoss:\t2.180570\n",
            "pred:\t tensor([38,  3,  3, 11,  2, 11, 11, 11, 11, 11])\n",
            "\n",
            "tgt:\t tensor([38, 91,  3, 11,  2,  0,  0,  0,  0])\n",
            "\n",
            "iter 1872 / 7800\tLoss:\t2.291071\n",
            "pred:\t tensor([266,   3,  24,  24,  24,  24,  24,  24,  24,  24])\n",
            "\n",
            "tgt:\t tensor([266,   3,   2,   0,   0,   0,   0,   0,   0])\n",
            "\n",
            "iter 2028 / 7800\tLoss:\t2.165028\n",
            "pred:\t tensor([155, 157,   3,  11,   2,  11,  11,  11,  11,  11])\n",
            "\n",
            "tgt:\t tensor([156, 157, 323,  11,   2,   0,   0,   0,   0])\n",
            "\n",
            "iter 2184 / 7800\tLoss:\t1.757013\n",
            "pred:\t tensor([ 38, 116, 202, 146, 148,  11,   2,  11,  11,  11])\n",
            "\n",
            "tgt:\t tensor([ 38, 116, 202, 112, 148,  11,   2,   0,   0])\n",
            "\n",
            "iter 2340 / 7800\tLoss:\t1.748303\n",
            "pred:\t tensor([ 14,   3, 177,   3,  11,   2,  11,  11,  11,  11])\n",
            "\n",
            "tgt:\t tensor([ 14,   3, 177,   3,  11,   2,   0,   0,   0])\n",
            "\n",
            "iter 2496 / 7800\tLoss:\t1.739933\n",
            "pred:\t tensor([14, 79, 28, 41,  3, 11,  2, 11, 11, 11])\n",
            "\n",
            "tgt:\t tensor([ 14,  79,  28,  41, 221,  11,   2,   0,   0])\n",
            "\n",
            "iter 2652 / 7800\tLoss:\t1.614334\n",
            "pred:\t tensor([55,  3,  5,  2,  5,  5, 11, 11, 11, 11])\n",
            "\n",
            "tgt:\t tensor([55, 56,  5,  2,  0,  0,  0,  0,  0])\n",
            "\n",
            "iter 2808 / 7800\tLoss:\t1.222972\n",
            "pred:\t tensor([168,  90,  79,   4,  41,  24,   2,  24,  24,  24])\n",
            "\n",
            "tgt:\t tensor([168,  90,  79,   4,  41,  24,   2,   0,   0])\n",
            "\n",
            "iter 2964 / 7800\tLoss:\t1.807966\n",
            "pred:\t tensor([303, 314,  11,   2,  11,  11,  11,  11,  11,  11])\n",
            "\n",
            "tgt:\t tensor([303, 314,  11,   2,   0,   0,   0,   0,   0])\n",
            "\n",
            "iter 3120 / 7800\tLoss:\t1.307053\n",
            "pred:\t tensor([52, 40,  3, 11,  2, 11, 11, 11, 11, 11])\n",
            "\n",
            "tgt:\t tensor([52, 40,  3, 11,  2,  0,  0,  0,  0])\n",
            "\n",
            "iter 3276 / 7800\tLoss:\t1.650432\n",
            "pred:\t tensor([167, 167,  45,  24,   2,  24,  24,  24,  24,  24])\n",
            "\n",
            "tgt:\t tensor([  9, 167,  45,  24,   2,   0,   0,   0,   0])\n",
            "\n",
            "iter 3432 / 7800\tLoss:\t1.898355\n",
            "pred:\t tensor([244, 320,  48,  11,   2,  11,  11,  11,  11,  11])\n",
            "\n",
            "tgt:\t tensor([  3, 320,  48,  11,   2,   0,   0,   0,   0])\n",
            "\n",
            "iter 3588 / 7800\tLoss:\t1.401382\n",
            "pred:\t tensor([ 14, 112,  72,   3,  11,   2,  11,  11,  11,  11])\n",
            "\n",
            "tgt:\t tensor([ 14, 116,  72,   3,  11,   2,   0,   0,   0])\n",
            "\n",
            "iter 3744 / 7800\tLoss:\t1.172897\n",
            "pred:\t tensor([14, 28, 54, 11,  2, 11, 11, 11, 11, 11])\n",
            "\n",
            "tgt:\t tensor([14, 28, 54, 11,  2,  0,  0,  0,  0])\n",
            "\n",
            "iter 3900 / 7800\tLoss:\t1.185525\n",
            "pred:\t tensor([ 3,  5,  2,  5, 11, 11, 11, 11, 11, 11])\n",
            "\n",
            "tgt:\t tensor([3, 5, 2, 0, 0, 0, 0, 0, 0])\n",
            "\n",
            "iter 4056 / 7800\tLoss:\t1.122465\n",
            "pred:\t tensor([14, 28,  3, 11,  2, 11, 11, 11, 11, 11])\n",
            "\n",
            "tgt:\t tensor([14, 28,  3, 11,  2,  0,  0,  0,  0])\n",
            "\n",
            "iter 4212 / 7800\tLoss:\t1.078999\n",
            "pred:\t tensor([14, 33, 11,  2, 11, 11, 11, 11, 11, 11])\n",
            "\n",
            "tgt:\t tensor([14,  3, 11,  2,  0,  0,  0,  0,  0])\n",
            "\n",
            "iter 4368 / 7800\tLoss:\t1.251228\n",
            "pred:\t tensor([38,  3, 11,  2, 11, 11, 11, 11, 11, 11])\n",
            "\n",
            "tgt:\t tensor([38,  3, 11,  2,  0,  0,  0,  0,  0])\n",
            "\n",
            "iter 4524 / 7800\tLoss:\t1.057378\n",
            "pred:\t tensor([ 14, 116, 179,   3, 259,  11,   2,  11,  11,  11])\n",
            "\n",
            "tgt:\t tensor([ 14, 116, 179,   3, 259,  11,   2,   0,   0])\n",
            "\n",
            "iter 4680 / 7800\tLoss:\t0.994685\n",
            "pred:\t tensor([15,  3, 75,  3, 11,  2, 11, 11, 11, 11])\n",
            "\n",
            "tgt:\t tensor([15,  3, 75,  3, 11,  2,  0,  0,  0])\n",
            "\n",
            "iter 4836 / 7800\tLoss:\t1.181039\n",
            "pred:\t tensor([14,  3,  3, 11,  2, 11, 11, 11, 11, 11])\n",
            "\n",
            "tgt:\t tensor([ 15, 108,   3,  11,   2,   0,   0,   0,   0])\n",
            "\n",
            "iter 4992 / 7800\tLoss:\t0.934542\n",
            "pred:\t tensor([ 14, 116, 179, 259,  11,   2,  11,  11,  11,  11])\n",
            "\n",
            "tgt:\t tensor([ 14, 116, 179, 259,  11,   2,   0,   0,   0])\n",
            "\n",
            "iter 5148 / 7800\tLoss:\t0.997079\n",
            "pred:\t tensor([68, 11,  2, 11, 11, 11, 11, 11, 11, 11])\n",
            "\n",
            "tgt:\t tensor([ 3, 11,  2,  0,  0,  0,  0,  0,  0])\n",
            "\n",
            "iter 5304 / 7800\tLoss:\t1.118979\n",
            "pred:\t tensor([ 15, 204,  37,  11,   2,  11,  11,  11,  11,  11])\n",
            "\n",
            "tgt:\t tensor([ 15, 204,   3,  11,   2,   0,   0,   0,   0])\n",
            "\n",
            "iter 5460 / 7800\tLoss:\t1.290387\n",
            "pred:\t tensor([51,  9, 90, 90,  5,  2,  5, 24, 24, 24])\n",
            "\n",
            "tgt:\t tensor([51,  9,  3, 90,  5,  2,  0,  0,  0])\n",
            "\n",
            "iter 5616 / 7800\tLoss:\t0.902267\n",
            "pred:\t tensor([170,   3,  24,   2,  24,  24,  24,  24,  24,  24])\n",
            "\n",
            "tgt:\t tensor([170,   3,  24,   2,   0,   0,   0,   0,   0])\n",
            "\n",
            "iter 5772 / 7800\tLoss:\t1.155762\n",
            "pred:\t tensor([ 3,  3, 81,  3, 24,  2, 24, 24, 24, 24])\n",
            "\n",
            "tgt:\t tensor([ 3, 71, 81,  3, 24,  2,  0,  0,  0])\n",
            "\n",
            "iter 5928 / 7800\tLoss:\t1.258911\n",
            "pred:\t tensor([ 38,  40, 387, 110,   5,   2,  11,  11,  11,  11])\n",
            "\n",
            "tgt:\t tensor([ 38,  40, 102, 110,   5,   2,   0,   0,   0])\n",
            "\n",
            "iter 6084 / 7800\tLoss:\t1.025009\n",
            "pred:\t tensor([55,  3,  5,  2,  5, 11, 11,  5, 11, 11])\n",
            "\n",
            "tgt:\t tensor([55,  3,  5,  2,  0,  0,  0,  0,  0])\n",
            "\n",
            "iter 6240 / 7800\tLoss:\t1.199322\n",
            "pred:\t tensor([52,  3, 11,  2, 11, 11, 11, 11, 11, 11])\n",
            "\n",
            "tgt:\t tensor([52,  3, 11,  2,  0,  0,  0,  0,  0])\n",
            "\n",
            "iter 6396 / 7800\tLoss:\t1.243946\n",
            "pred:\t tensor([48,  3, 11,  2, 11, 11, 11, 11, 11, 11])\n",
            "\n",
            "tgt:\t tensor([48,  3, 11,  2,  0,  0,  0,  0,  0])\n",
            "\n",
            "iter 6552 / 7800\tLoss:\t1.033607\n",
            "pred:\t tensor([14, 33, 11,  2, 11, 11, 11, 11, 11, 11])\n",
            "\n",
            "tgt:\t tensor([ 3, 33, 11,  2,  0,  0,  0,  0,  0])\n",
            "\n",
            "iter 6708 / 7800\tLoss:\t0.814852\n",
            "pred:\t tensor([199, 108,   3,  11,   2,  11,  11,  11,  11,  11])\n",
            "\n",
            "tgt:\t tensor([199, 108,   3,  11,   2,   0,   0,   0,   0])\n",
            "\n",
            "iter 6864 / 7800\tLoss:\t1.411041\n",
            "pred:\t tensor([108,   3,   3,  11,   2,  11,  11,  11,  11,  11])\n",
            "\n",
            "tgt:\t tensor([108,   3,   3,  11,   2,   0,   0,   0,   0])\n",
            "\n",
            "iter 7020 / 7800\tLoss:\t1.244567\n",
            "pred:\t tensor([ 3, 72,  3, 11,  2, 11,  2, 11, 11, 11])\n",
            "\n",
            "tgt:\t tensor([ 3, 74,  3, 11,  2,  0,  0,  0,  0])\n",
            "\n",
            "iter 7176 / 7800\tLoss:\t1.099033\n",
            "pred:\t tensor([171, 342, 400,  11,   2,  11,  11,  11,  11,  11])\n",
            "\n",
            "tgt:\t tensor([171, 342,   3,  11,   2,   0,   0,   0,   0])\n",
            "\n",
            "iter 7332 / 7800\tLoss:\t0.863790\n",
            "pred:\t tensor([52, 40,  3, 11,  2, 11, 11, 11, 11, 11])\n",
            "\n",
            "tgt:\t tensor([52, 40,  3, 11,  2,  0,  0,  0,  0])\n",
            "\n",
            "iter 7488 / 7800\tLoss:\t1.060401\n",
            "pred:\t tensor([36,  3, 11,  2, 11, 11, 11, 11, 11, 11])\n",
            "\n",
            "tgt:\t tensor([36,  3, 11,  2,  0,  0,  0,  0,  0])\n",
            "\n",
            "iter 7644 / 7800\tLoss:\t0.943543\n",
            "pred:\t tensor([ 3, 24,  2, 24, 24, 24, 24, 24, 24, 24])\n",
            "\n",
            "tgt:\t tensor([ 3, 24,  2,  0,  0,  0,  0,  0,  0])\n",
            "\n"
          ]
        }
      ],
      "source": [
        "def train_lstm(net, train_iter, lr, epochs, device):\n",
        "  # training\n",
        "  net = net.to(device)\n",
        "\n",
        "  optimizer = torch.optim.Adam(net.parameters(), lr=lr)\n",
        "  loss_list = []\n",
        "  print_interval = len(train_iter)\n",
        "  total_iter = epochs * len(train_iter)\n",
        "  for e in range(epochs):\n",
        "    net.train()\n",
        "    for i, train_data in enumerate(train_iter):\n",
        "      train_data = [ds.to(device) for ds in train_data]\n",
        "\n",
        "      loss, pred = net(*train_data)\n",
        "\n",
        "      loss_list.append(loss.mean().detach())\n",
        "      optimizer.zero_grad()\n",
        "      loss.mean().backward()\n",
        "      optimizer.step()\n",
        "\n",
        "      step = i + e * len(train_iter)\n",
        "      if step % print_interval == 0:\n",
        "        print('iter {} / {}\\tLoss:\\t{:.6f}'.format(step, total_iter, loss.mean().detach()))\n",
        "        print('pred:\\t {}\\n'.format(pred[0].detach().cpu()))\n",
        "        print('tgt:\\t {}\\n'.format(train_data[2][0][1:].cpu()))\n",
        "  return loss_list\n",
        "\n",
        "seed(1)\n",
        "batch_size = 32\n",
        "lr = None\n",
        "##############################################################################\n",
        "# TODO9: Find a good learning rate to train this model. Make sure your best\n",
        "# model is saved to the `lstm_net` variable.\n",
        "##############################################################################\n",
        "# Replace \"pass\" statement with your code\n",
        "lr = 0.001\n",
        "# END OF YOUR CODE\n",
        "epochs = 50\n",
        "\n",
        "embedding_dim = 250\n",
        "hidden_size = 128\n",
        "\n",
        "vocab_eng, vocab_fra, train_iter = load_data_nmt(batch_size)\n",
        "lstm_net = NMTLSTM(vocab_eng.num_word, vocab_fra.num_word, embedding_dim, hidden_size, device)\n",
        "\n",
        "lstm_loss_list = train_lstm(lstm_net, train_iter, lr, epochs, device)"
      ]
    },
    {
      "cell_type": "markdown",
      "metadata": {
        "id": "M3c_DR_6G65s"
      },
      "source": [
        "### LSTM Loss Curve\n",
        "\n",
        "Plot the loss curve over time."
      ]
    },
    {
      "cell_type": "code",
      "execution_count": null,
      "metadata": {
        "colab": {
          "base_uri": "https://localhost:8080/",
          "height": 298
        },
        "id": "J1RubQaWG65s",
        "outputId": "640915ac-e5b1-4f85-bc63-9b767fbc7f96"
      },
      "outputs": [
        {
          "data": {
            "text/plain": [
              "Text(0.5, 1.0, 'Loss Curve of LSTM Attention')"
            ]
          },
          "execution_count": 83,
          "metadata": {},
          "output_type": "execute_result"
        },
        {
          "data": {
            "image/png": "[encoded data removed]",
            "text/plain": [
              "<Figure size 432x288 with 1 Axes>"
            ]
          },
          "metadata": {
            "needs_background": "light"
          },
          "output_type": "display_data"
        }
      ],
      "source": [
        "lstm_loss_list = torch.tensor(lstm_loss_list, device = 'cpu')\n",
        "plt.plot(np.arange(len(lstm_loss_list)), lstm_loss_list)\n",
        "plt.title('Loss Curve of LSTM Attention')"
      ]
    },
    {
      "cell_type": "markdown",
      "metadata": {
        "id": "iHBh_lS-G65s"
      },
      "source": [
        "Test the accuracy of your model. You should be able to get at least 75% accuracy."
      ]
    },
    {
      "cell_type": "code",
      "execution_count": null,
      "metadata": {
        "colab": {
          "base_uri": "https://localhost:8080/"
        },
        "id": "LzwCs7cmG65s",
        "outputId": "96f42743-5478-4c92-9421-d90a034e1c8a"
      },
      "outputs": [
        {
          "name": "stdout",
          "output_type": "stream",
          "text": [
            "(tensor([4, 5, 0, 0, 0, 0, 0, 0, 0, 0]), tensor(2), tensor([1, 4, 5, 2, 0, 0, 0, 0, 0, 0]), tensor(4))\n",
            "pred:\t ['unk', '.']\n",
            "\n",
            "tgt:\t ['unk', '!', 'eos', 'pad', 'pad', 'pad', 'pad', 'pad', 'pad']\n",
            "\n",
            "pred:\t ['je', \"t'en\", 'dois', 'une', '.']\n",
            "\n",
            "tgt:\t ['je', \"t'en\", 'dois', 'une', '.', 'eos', 'pad', 'pad', 'pad']\n",
            "\n",
            "pred:\t ['est-il', 'mort', '?']\n",
            "\n",
            "tgt:\t ['est-il', 'unk', '?', 'eos', 'pad', 'pad', 'pad', 'pad', 'pad']\n",
            "\n",
            "pred:\t ['je', 'suis', 'unk', '.']\n",
            "\n",
            "tgt:\t ['je', 'suis', 'unk', '.', 'eos', 'pad', 'pad', 'pad', 'pad']\n",
            "\n",
            "pred:\t ['demande', 'à', 'qui', 'que', 'ce', 'soit', '!']\n",
            "\n",
            "tgt:\t ['demande', 'à', 'unk', 'qui', '!', 'eos', 'pad', 'pad', 'pad']\n",
            "\n",
            "Prediction Acc.: 0.7751\n"
          ]
        }
      ],
      "source": [
        "def comp_acc(pred, gt, valid_len):\n",
        "  N, T_gt = gt.shape[:2]\n",
        "  _, T_pr = pred.shape[:2]\n",
        "  assert T_gt == T_pr, 'Prediction and target should have the same length.'\n",
        "  len_mask = torch.arange(T_gt).expand(N, T_gt)\n",
        "  len_mask = len_mask < valid_len[:, None]\n",
        "  \n",
        "  pred_crr = (pred == gt).float() * len_mask.float() # filter out the 'bos' token\n",
        "  pred_acc = pred_crr.sum(dim=-1) / (valid_len - 1).float() # minus the 'bos' token\n",
        "  return pred_acc\n",
        "  \n",
        "def evaluate_lstm(net, train_iter, device):\n",
        "  acc_list = []\n",
        "  for i, train_data in enumerate(train_iter):\n",
        "    train_data = [ds.to(device) for ds in train_data]\n",
        "\n",
        "    pred = net.predict(*train_data)\n",
        "\n",
        "    pred_acc = comp_acc(pred.detach().cpu(), train_data[2].detach().cpu()[:, 1:], train_data[3].cpu())\n",
        "    acc_list.append(pred_acc)\n",
        "    if i < 5:# print 5 samples from 5 batches\n",
        "      pred = pred[0].detach().cpu()\n",
        "      pred_seq = []\n",
        "      for t in range(MAX_LEN+1):\n",
        "        pred_wd = vocab_fra.index2word[pred[t].item()] \n",
        "        if pred_wd == 'eos':\n",
        "          break\n",
        "        pred_seq.append(pred_wd)\n",
        "\n",
        "      print('pred:\\t {}\\n'.format(pred_seq))\n",
        "      print('tgt:\\t {}\\n'.format([vocab_fra.index2word[t.item()] for t in train_data[2][0][1:].cpu()]))\n",
        "  \n",
        "  print('Prediction Acc.: {:.4f}'.format(torch.cat(acc_list).mean()))\n",
        "  acc_final = torch.cat(acc_list).mean()\n",
        "  return acc_final\n",
        "  \n",
        "seed(1)\n",
        "batch_size = 32\n",
        "\n",
        "vocab_eng, vocab_fra, train_iter = load_data_nmt(batch_size)\n",
        "acc_final = evaluate_lstm(lstm_net, train_iter, device)"
      ]
    },
    {
      "cell_type": "code",
      "execution_count": null,
      "metadata": {
        "colab": {
          "base_uri": "https://localhost:8080/"
        },
        "id": "9lsIO57WKkYr",
        "outputId": "0fa0202b-c2a9-474c-de35-692492919e7d"
      },
      "outputs": [
        {
          "name": "stdout",
          "output_type": "stream",
          "text": [
            "Good!\n"
          ]
        }
      ],
      "source": [
        "if acc_final > 0.75:\n",
        "  print(\"Good!\")\n",
        "  Acc_score = 10\n",
        "else:\n",
        "  print(\"Try again!\")\n",
        "  Acc_score = 0"
      ]
    },
    {
      "cell_type": "code",
      "execution_count": null,
      "metadata": {
        "colab": {
          "base_uri": "https://localhost:8080/"
        },
        "id": "2kKlkHOoLebr",
        "outputId": "4cddb801-62ad-4753-fe6d-c1d806f28583"
      },
      "outputs": [
        {
          "data": {
            "text/plain": [
              "25"
            ]
          },
          "execution_count": 86,
          "metadata": {},
          "output_type": "execute_result"
        }
      ],
      "source": [
        "# Total 25pt\n",
        "asgn3_score = LSTM_score + Dot_score + MLP_score + Acc_score\n",
        "asgn3_score"
      ]
    }
  ],
  "metadata": {
    "accelerator": "GPU",
    "colab": {
      "collapsed_sections": [
        "WzXKt6chG65r"
      ],
      "name": "hw3_20190786.ipynb",
      "provenance": []
    },
    "kernelspec": {
      "display_name": "Python 3 (ipykernel)",
      "language": "python",
      "name": "python3"
    },
    "language_info": {
      "codemirror_mode": {
        "name": "ipython",
        "version": 3
      },
      "file_extension": ".py",
      "mimetype": "text/x-python",
      "name": "python",
      "nbconvert_exporter": "python",
      "pygments_lexer": "ipython3",
      "version": "3.8.10"
    }
  },
  "nbformat": 4,
  "nbformat_minor": 0
}